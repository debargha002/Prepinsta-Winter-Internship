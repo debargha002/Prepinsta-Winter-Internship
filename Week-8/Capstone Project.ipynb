{
 "cells": [
  {
   "cell_type": "markdown",
   "id": "fbc824d9-0292-4f4e-8fba-53ec1186c452",
   "metadata": {},
   "source": [
    "# WEEK 8 Capstone Project\n",
    "# **FITBIT CONSUMER BEHAVIOUR ANALYSIS**"
   ]
  },
  {
   "cell_type": "markdown",
   "id": "4e8c3b51-ca46-4e9c-8179-6e7af25f225a",
   "metadata": {},
   "source": [
    "![img](https://130e178e8f8ba617604b-8aedd782b7d22cfe0d1146da69a52436.ssl.cf1.rackcdn.com/fitbit-hack-what-are-lessons-showcase_image-6-a-8793.jpg)"
   ]
  },
  {
   "cell_type": "markdown",
   "id": "4fef38ef-d99a-471f-8298-442c81980f06",
   "metadata": {},
   "source": [
    "## INTRODUCTION\n",
    "Fitbit Inc. is an American consumer electronics and fitness company. It produces wireless-enabled wearable technology, physical fitness monitors and activity trackers such as smartwatches, pedometers and monitors for heart rate, quality of sleep and stairs climbed as well as related software. The company was acquired by Google in January 2021.\n",
    "The company was founded as Healthy Metrics Research, Inc. in San Francisco, California, on March 26, 2007, by *James Park* (CEO) and *Eric Friedman* (CTO)."
   ]
  },
  {
   "cell_type": "markdown",
   "id": "f6d00ada-3594-4b7d-9ba8-e2af08738e9a",
   "metadata": {},
   "source": [
    "# OBJECTIVE\n",
    "Imagine you are a data analyst at **“HealthTrackers Inc.**,” a fictional company operating in the Fitbit industry. Your company is dedicated to understanding consumer behavior to enhance product offerings and optimize marketing strategies. You have been tasked with analyzing a comprehensive dataset obtained from Fitbit users to uncover trends and insights. The business objective is to identify key trends, understand their implications for customers, and leverage these insights to shape an effective marketing strategy."
   ]
  },
  {
   "cell_type": "markdown",
   "id": "b71d47c3-171b-4423-a3b8-3d211361cd3d",
   "metadata": {},
   "source": [
    "# BUSINESS TASK\n",
    "Analyze FitBit Fitness Tracker App data to gain insights into how consumers are using the FitBit app and discover trends and insights for the marketing team."
   ]
  },
  {
   "cell_type": "markdown",
   "id": "dba9c1a6-5383-4512-9788-f633b360ad50",
   "metadata": {},
   "source": [
    "# BUSINESS OBJECTIVE\n",
    "- What are the trends identified?\n",
    "- How could these trends apply to customers?\n",
    "- How could these trends help influence marketing strategy?"
   ]
  },
  {
   "cell_type": "markdown",
   "id": "c0519e69-a987-4c72-a652-a6d1ede8605f",
   "metadata": {},
   "source": [
    "## 1. Data Source:\n",
    "1. The data is given to us by our mentor available through Google Drive. It contains personal fitness tracker data from over 30 FitBit users who have given consent to use their data.\n",
    "2. There are 18 csv files total, but the datasets used according to the product analysis are `daily activity`, `hourly calories`, `hourly steps`, `sleep day`, `daily_calories`, `daily_intensity`, `weight_log` and `daily_steps`dataset."
   ]
  },
  {
   "cell_type": "markdown",
   "id": "9d886c98-3c11-447c-b7d1-dfc7072a2da8",
   "metadata": {},
   "source": [
    "## 2. Sorting the data\n",
    "1. To have a quick overview of the chosen data, I opened each of them in MS Excel. The first thing I noticed was that the data was organized in a long format. I also noticed that the `dailyActivity_merged` data contains some metrics that can give us some insights like the total steps taken by the Fitbit users, the active minutes spent, and the calories burned. With that we can establish some correlation between calories burned and the steps taken. The hourly calories and the hourly steps contain info about the activity hour that will help give some insight about calories and the time of the day.\n",
    "\n",
    "2. Then I created a separate folder on my desktop to store the files, since I was going to use Jupyter Notebook to process the data."
   ]
  },
  {
   "cell_type": "markdown",
   "id": "8d2edf2d-1adf-4bbd-8ec7-0c4b38443e3c",
   "metadata": {},
   "source": [
    "## 3. Loading Libraries\n",
    "Let's start by loading libraries for data processing and visualization."
   ]
  },
  {
   "cell_type": "code",
   "execution_count": 232,
   "id": "3d323c1c-94a2-40ff-9c57-c1f29820b9ca",
   "metadata": {},
   "outputs": [],
   "source": [
    "%matplotlib inline\n",
    "import pandas as pd\n",
    "import numpy as np\n",
    "import datetime as dt\n",
    "import matplotlib.pyplot as plt\n",
    "import seaborn as sns\n",
    "import warnings\n",
    "warnings.filterwarnings(action='ignore', category=FutureWarning)\n",
    "warnings.filterwarnings(action='ignore', category=UserWarning)"
   ]
  },
  {
   "cell_type": "markdown",
   "id": "3ca41377-9565-4c26-84c8-359ab472ad99",
   "metadata": {},
   "source": [
    "## 4. Loading datasets\n",
    "We will be loading the relevant datasets necessary for the analysis."
   ]
  },
  {
   "cell_type": "code",
   "execution_count": 233,
   "id": "d65e5711-744f-465d-8df5-b5d5043e439f",
   "metadata": {},
   "outputs": [],
   "source": [
    "daily_activity = pd.read_csv('E:/PrepInsta Winter Internship Program/Week 8/dailyActivity_merged.csv')\n",
    "hourly_steps = pd.read_csv('E:/PrepInsta Winter Internship Program/Week 8/hourlySteps_merged.csv')\n",
    "hourly_calories = pd.read_csv('E:/PrepInsta Winter Internship Program/Week 8/hourlyCalories_merged.csv')\n",
    "sleepday = pd.read_csv('E:/PrepInsta Winter Internship Program/Week 8/sleepDay_merged.csv')\n",
    "daily_calories = pd.read_csv('E:/PrepInsta Winter Internship Program/Week 8/dailyCalories_merged.csv')\n",
    "daily_intensity = pd.read_csv('E:/PrepInsta Winter Internship Program/Week 8/dailyIntensities_merged.csv')\n",
    "weight_log = pd.read_csv('E:/PrepInsta Winter Internship Program/Week 8/weightLogInfo_merged.csv')\n",
    "daily_steps = pd.read_csv('E:/PrepInsta Winter Internship Program/Week 8/dailySteps_merged.csv')\n",
    "heartrate_secs = pd.read_csv('E:/PrepInsta Winter Internship Program/Week 8/heartrate_seconds_merged.csv')"
   ]
  },
  {
   "cell_type": "markdown",
   "id": "abf562af-fdc1-4889-bd90-c13272e6d0f3",
   "metadata": {},
   "source": [
    "## 5. Data Exploration\n",
    "Let's explore our data by viewing some information about them."
   ]
  },
  {
   "cell_type": "markdown",
   "id": "a09e53bc-c499-49c2-a98e-e0c72ca3be2b",
   "metadata": {},
   "source": [
    "### Showing the first 5 rows of each dataset."
   ]
  },
  {
   "cell_type": "code",
   "execution_count": 4,
   "id": "321dd1ab-25b4-45bd-a0cb-649b8e6edbeb",
   "metadata": {},
   "outputs": [
    {
     "data": {
      "text/html": [
       "<div>\n",
       "<style scoped>\n",
       "    .dataframe tbody tr th:only-of-type {\n",
       "        vertical-align: middle;\n",
       "    }\n",
       "\n",
       "    .dataframe tbody tr th {\n",
       "        vertical-align: top;\n",
       "    }\n",
       "\n",
       "    .dataframe thead th {\n",
       "        text-align: right;\n",
       "    }\n",
       "</style>\n",
       "<table border=\"1\" class=\"dataframe\">\n",
       "  <thead>\n",
       "    <tr style=\"text-align: right;\">\n",
       "      <th></th>\n",
       "      <th>Id</th>\n",
       "      <th>ActivityDate</th>\n",
       "      <th>TotalSteps</th>\n",
       "      <th>TotalDistance</th>\n",
       "      <th>TrackerDistance</th>\n",
       "      <th>LoggedActivitiesDistance</th>\n",
       "      <th>VeryActiveDistance</th>\n",
       "      <th>ModeratelyActiveDistance</th>\n",
       "      <th>LightActiveDistance</th>\n",
       "      <th>SedentaryActiveDistance</th>\n",
       "      <th>VeryActiveMinutes</th>\n",
       "      <th>FairlyActiveMinutes</th>\n",
       "      <th>LightlyActiveMinutes</th>\n",
       "      <th>SedentaryMinutes</th>\n",
       "      <th>Calories</th>\n",
       "    </tr>\n",
       "  </thead>\n",
       "  <tbody>\n",
       "    <tr>\n",
       "      <th>0</th>\n",
       "      <td>1503960366</td>\n",
       "      <td>4/12/2016</td>\n",
       "      <td>13162</td>\n",
       "      <td>8.50</td>\n",
       "      <td>8.50</td>\n",
       "      <td>0.0</td>\n",
       "      <td>1.88</td>\n",
       "      <td>0.55</td>\n",
       "      <td>6.06</td>\n",
       "      <td>0.0</td>\n",
       "      <td>25</td>\n",
       "      <td>13</td>\n",
       "      <td>328</td>\n",
       "      <td>728</td>\n",
       "      <td>1985</td>\n",
       "    </tr>\n",
       "    <tr>\n",
       "      <th>1</th>\n",
       "      <td>1503960366</td>\n",
       "      <td>4/13/2016</td>\n",
       "      <td>10735</td>\n",
       "      <td>6.97</td>\n",
       "      <td>6.97</td>\n",
       "      <td>0.0</td>\n",
       "      <td>1.57</td>\n",
       "      <td>0.69</td>\n",
       "      <td>4.71</td>\n",
       "      <td>0.0</td>\n",
       "      <td>21</td>\n",
       "      <td>19</td>\n",
       "      <td>217</td>\n",
       "      <td>776</td>\n",
       "      <td>1797</td>\n",
       "    </tr>\n",
       "    <tr>\n",
       "      <th>2</th>\n",
       "      <td>1503960366</td>\n",
       "      <td>4/14/2016</td>\n",
       "      <td>10460</td>\n",
       "      <td>6.74</td>\n",
       "      <td>6.74</td>\n",
       "      <td>0.0</td>\n",
       "      <td>2.44</td>\n",
       "      <td>0.40</td>\n",
       "      <td>3.91</td>\n",
       "      <td>0.0</td>\n",
       "      <td>30</td>\n",
       "      <td>11</td>\n",
       "      <td>181</td>\n",
       "      <td>1218</td>\n",
       "      <td>1776</td>\n",
       "    </tr>\n",
       "    <tr>\n",
       "      <th>3</th>\n",
       "      <td>1503960366</td>\n",
       "      <td>4/15/2016</td>\n",
       "      <td>9762</td>\n",
       "      <td>6.28</td>\n",
       "      <td>6.28</td>\n",
       "      <td>0.0</td>\n",
       "      <td>2.14</td>\n",
       "      <td>1.26</td>\n",
       "      <td>2.83</td>\n",
       "      <td>0.0</td>\n",
       "      <td>29</td>\n",
       "      <td>34</td>\n",
       "      <td>209</td>\n",
       "      <td>726</td>\n",
       "      <td>1745</td>\n",
       "    </tr>\n",
       "    <tr>\n",
       "      <th>4</th>\n",
       "      <td>1503960366</td>\n",
       "      <td>4/16/2016</td>\n",
       "      <td>12669</td>\n",
       "      <td>8.16</td>\n",
       "      <td>8.16</td>\n",
       "      <td>0.0</td>\n",
       "      <td>2.71</td>\n",
       "      <td>0.41</td>\n",
       "      <td>5.04</td>\n",
       "      <td>0.0</td>\n",
       "      <td>36</td>\n",
       "      <td>10</td>\n",
       "      <td>221</td>\n",
       "      <td>773</td>\n",
       "      <td>1863</td>\n",
       "    </tr>\n",
       "  </tbody>\n",
       "</table>\n",
       "</div>"
      ],
      "text/plain": [
       "           Id ActivityDate  ...  SedentaryMinutes  Calories\n",
       "0  1503960366    4/12/2016  ...               728      1985\n",
       "1  1503960366    4/13/2016  ...               776      1797\n",
       "2  1503960366    4/14/2016  ...              1218      1776\n",
       "3  1503960366    4/15/2016  ...               726      1745\n",
       "4  1503960366    4/16/2016  ...               773      1863\n",
       "\n",
       "[5 rows x 15 columns]"
      ]
     },
     "execution_count": 4,
     "metadata": {},
     "output_type": "execute_result"
    }
   ],
   "source": [
    "daily_activity.head()"
   ]
  },
  {
   "cell_type": "code",
   "execution_count": 5,
   "id": "875f2c11-8bf5-459c-9f4f-cf08a6931e5f",
   "metadata": {},
   "outputs": [
    {
     "data": {
      "text/html": [
       "<div>\n",
       "<style scoped>\n",
       "    .dataframe tbody tr th:only-of-type {\n",
       "        vertical-align: middle;\n",
       "    }\n",
       "\n",
       "    .dataframe tbody tr th {\n",
       "        vertical-align: top;\n",
       "    }\n",
       "\n",
       "    .dataframe thead th {\n",
       "        text-align: right;\n",
       "    }\n",
       "</style>\n",
       "<table border=\"1\" class=\"dataframe\">\n",
       "  <thead>\n",
       "    <tr style=\"text-align: right;\">\n",
       "      <th></th>\n",
       "      <th>Id</th>\n",
       "      <th>ActivityHour</th>\n",
       "      <th>StepTotal</th>\n",
       "    </tr>\n",
       "  </thead>\n",
       "  <tbody>\n",
       "    <tr>\n",
       "      <th>0</th>\n",
       "      <td>1503960366</td>\n",
       "      <td>4/12/2016 12:00:00 AM</td>\n",
       "      <td>373</td>\n",
       "    </tr>\n",
       "    <tr>\n",
       "      <th>1</th>\n",
       "      <td>1503960366</td>\n",
       "      <td>4/12/2016 1:00:00 AM</td>\n",
       "      <td>160</td>\n",
       "    </tr>\n",
       "    <tr>\n",
       "      <th>2</th>\n",
       "      <td>1503960366</td>\n",
       "      <td>4/12/2016 2:00:00 AM</td>\n",
       "      <td>151</td>\n",
       "    </tr>\n",
       "    <tr>\n",
       "      <th>3</th>\n",
       "      <td>1503960366</td>\n",
       "      <td>4/12/2016 3:00:00 AM</td>\n",
       "      <td>0</td>\n",
       "    </tr>\n",
       "    <tr>\n",
       "      <th>4</th>\n",
       "      <td>1503960366</td>\n",
       "      <td>4/12/2016 4:00:00 AM</td>\n",
       "      <td>0</td>\n",
       "    </tr>\n",
       "  </tbody>\n",
       "</table>\n",
       "</div>"
      ],
      "text/plain": [
       "           Id           ActivityHour  StepTotal\n",
       "0  1503960366  4/12/2016 12:00:00 AM        373\n",
       "1  1503960366   4/12/2016 1:00:00 AM        160\n",
       "2  1503960366   4/12/2016 2:00:00 AM        151\n",
       "3  1503960366   4/12/2016 3:00:00 AM          0\n",
       "4  1503960366   4/12/2016 4:00:00 AM          0"
      ]
     },
     "execution_count": 5,
     "metadata": {},
     "output_type": "execute_result"
    }
   ],
   "source": [
    "hourly_steps.head()"
   ]
  },
  {
   "cell_type": "code",
   "execution_count": 6,
   "id": "8cef2b57-a768-4348-beb2-a78b17cbc418",
   "metadata": {},
   "outputs": [
    {
     "data": {
      "text/html": [
       "<div>\n",
       "<style scoped>\n",
       "    .dataframe tbody tr th:only-of-type {\n",
       "        vertical-align: middle;\n",
       "    }\n",
       "\n",
       "    .dataframe tbody tr th {\n",
       "        vertical-align: top;\n",
       "    }\n",
       "\n",
       "    .dataframe thead th {\n",
       "        text-align: right;\n",
       "    }\n",
       "</style>\n",
       "<table border=\"1\" class=\"dataframe\">\n",
       "  <thead>\n",
       "    <tr style=\"text-align: right;\">\n",
       "      <th></th>\n",
       "      <th>Id</th>\n",
       "      <th>ActivityHour</th>\n",
       "      <th>Calories</th>\n",
       "    </tr>\n",
       "  </thead>\n",
       "  <tbody>\n",
       "    <tr>\n",
       "      <th>0</th>\n",
       "      <td>1503960366</td>\n",
       "      <td>4/12/2016 12:00:00 AM</td>\n",
       "      <td>81</td>\n",
       "    </tr>\n",
       "    <tr>\n",
       "      <th>1</th>\n",
       "      <td>1503960366</td>\n",
       "      <td>4/12/2016 1:00:00 AM</td>\n",
       "      <td>61</td>\n",
       "    </tr>\n",
       "    <tr>\n",
       "      <th>2</th>\n",
       "      <td>1503960366</td>\n",
       "      <td>4/12/2016 2:00:00 AM</td>\n",
       "      <td>59</td>\n",
       "    </tr>\n",
       "    <tr>\n",
       "      <th>3</th>\n",
       "      <td>1503960366</td>\n",
       "      <td>4/12/2016 3:00:00 AM</td>\n",
       "      <td>47</td>\n",
       "    </tr>\n",
       "    <tr>\n",
       "      <th>4</th>\n",
       "      <td>1503960366</td>\n",
       "      <td>4/12/2016 4:00:00 AM</td>\n",
       "      <td>48</td>\n",
       "    </tr>\n",
       "  </tbody>\n",
       "</table>\n",
       "</div>"
      ],
      "text/plain": [
       "           Id           ActivityHour  Calories\n",
       "0  1503960366  4/12/2016 12:00:00 AM        81\n",
       "1  1503960366   4/12/2016 1:00:00 AM        61\n",
       "2  1503960366   4/12/2016 2:00:00 AM        59\n",
       "3  1503960366   4/12/2016 3:00:00 AM        47\n",
       "4  1503960366   4/12/2016 4:00:00 AM        48"
      ]
     },
     "execution_count": 6,
     "metadata": {},
     "output_type": "execute_result"
    }
   ],
   "source": [
    "hourly_calories.head()"
   ]
  },
  {
   "cell_type": "code",
   "execution_count": 7,
   "id": "5e7d2ab3-a26d-47d0-8059-1835670c2db7",
   "metadata": {},
   "outputs": [
    {
     "data": {
      "text/html": [
       "<div>\n",
       "<style scoped>\n",
       "    .dataframe tbody tr th:only-of-type {\n",
       "        vertical-align: middle;\n",
       "    }\n",
       "\n",
       "    .dataframe tbody tr th {\n",
       "        vertical-align: top;\n",
       "    }\n",
       "\n",
       "    .dataframe thead th {\n",
       "        text-align: right;\n",
       "    }\n",
       "</style>\n",
       "<table border=\"1\" class=\"dataframe\">\n",
       "  <thead>\n",
       "    <tr style=\"text-align: right;\">\n",
       "      <th></th>\n",
       "      <th>Id</th>\n",
       "      <th>SleepDay</th>\n",
       "      <th>TotalSleepRecords</th>\n",
       "      <th>TotalMinutesAsleep</th>\n",
       "      <th>TotalTimeInBed</th>\n",
       "    </tr>\n",
       "  </thead>\n",
       "  <tbody>\n",
       "    <tr>\n",
       "      <th>0</th>\n",
       "      <td>1503960366</td>\n",
       "      <td>4/12/2016 12:00:00 AM</td>\n",
       "      <td>1</td>\n",
       "      <td>327</td>\n",
       "      <td>346</td>\n",
       "    </tr>\n",
       "    <tr>\n",
       "      <th>1</th>\n",
       "      <td>1503960366</td>\n",
       "      <td>4/13/2016 12:00:00 AM</td>\n",
       "      <td>2</td>\n",
       "      <td>384</td>\n",
       "      <td>407</td>\n",
       "    </tr>\n",
       "    <tr>\n",
       "      <th>2</th>\n",
       "      <td>1503960366</td>\n",
       "      <td>4/15/2016 12:00:00 AM</td>\n",
       "      <td>1</td>\n",
       "      <td>412</td>\n",
       "      <td>442</td>\n",
       "    </tr>\n",
       "    <tr>\n",
       "      <th>3</th>\n",
       "      <td>1503960366</td>\n",
       "      <td>4/16/2016 12:00:00 AM</td>\n",
       "      <td>2</td>\n",
       "      <td>340</td>\n",
       "      <td>367</td>\n",
       "    </tr>\n",
       "    <tr>\n",
       "      <th>4</th>\n",
       "      <td>1503960366</td>\n",
       "      <td>4/17/2016 12:00:00 AM</td>\n",
       "      <td>1</td>\n",
       "      <td>700</td>\n",
       "      <td>712</td>\n",
       "    </tr>\n",
       "  </tbody>\n",
       "</table>\n",
       "</div>"
      ],
      "text/plain": [
       "           Id               SleepDay  ...  TotalMinutesAsleep  TotalTimeInBed\n",
       "0  1503960366  4/12/2016 12:00:00 AM  ...                 327             346\n",
       "1  1503960366  4/13/2016 12:00:00 AM  ...                 384             407\n",
       "2  1503960366  4/15/2016 12:00:00 AM  ...                 412             442\n",
       "3  1503960366  4/16/2016 12:00:00 AM  ...                 340             367\n",
       "4  1503960366  4/17/2016 12:00:00 AM  ...                 700             712\n",
       "\n",
       "[5 rows x 5 columns]"
      ]
     },
     "execution_count": 7,
     "metadata": {},
     "output_type": "execute_result"
    }
   ],
   "source": [
    "sleepday.head()"
   ]
  },
  {
   "cell_type": "code",
   "execution_count": 8,
   "id": "e786b16c-7976-4163-aaa1-182b257a4ca9",
   "metadata": {},
   "outputs": [
    {
     "data": {
      "text/html": [
       "<div>\n",
       "<style scoped>\n",
       "    .dataframe tbody tr th:only-of-type {\n",
       "        vertical-align: middle;\n",
       "    }\n",
       "\n",
       "    .dataframe tbody tr th {\n",
       "        vertical-align: top;\n",
       "    }\n",
       "\n",
       "    .dataframe thead th {\n",
       "        text-align: right;\n",
       "    }\n",
       "</style>\n",
       "<table border=\"1\" class=\"dataframe\">\n",
       "  <thead>\n",
       "    <tr style=\"text-align: right;\">\n",
       "      <th></th>\n",
       "      <th>Id</th>\n",
       "      <th>ActivityDay</th>\n",
       "      <th>Calories</th>\n",
       "    </tr>\n",
       "  </thead>\n",
       "  <tbody>\n",
       "    <tr>\n",
       "      <th>0</th>\n",
       "      <td>1503960366</td>\n",
       "      <td>4/12/2016</td>\n",
       "      <td>1985</td>\n",
       "    </tr>\n",
       "    <tr>\n",
       "      <th>1</th>\n",
       "      <td>1503960366</td>\n",
       "      <td>4/13/2016</td>\n",
       "      <td>1797</td>\n",
       "    </tr>\n",
       "    <tr>\n",
       "      <th>2</th>\n",
       "      <td>1503960366</td>\n",
       "      <td>4/14/2016</td>\n",
       "      <td>1776</td>\n",
       "    </tr>\n",
       "    <tr>\n",
       "      <th>3</th>\n",
       "      <td>1503960366</td>\n",
       "      <td>4/15/2016</td>\n",
       "      <td>1745</td>\n",
       "    </tr>\n",
       "    <tr>\n",
       "      <th>4</th>\n",
       "      <td>1503960366</td>\n",
       "      <td>4/16/2016</td>\n",
       "      <td>1863</td>\n",
       "    </tr>\n",
       "  </tbody>\n",
       "</table>\n",
       "</div>"
      ],
      "text/plain": [
       "           Id ActivityDay  Calories\n",
       "0  1503960366   4/12/2016      1985\n",
       "1  1503960366   4/13/2016      1797\n",
       "2  1503960366   4/14/2016      1776\n",
       "3  1503960366   4/15/2016      1745\n",
       "4  1503960366   4/16/2016      1863"
      ]
     },
     "execution_count": 8,
     "metadata": {},
     "output_type": "execute_result"
    }
   ],
   "source": [
    "daily_calories.head()"
   ]
  },
  {
   "cell_type": "code",
   "execution_count": 9,
   "id": "18789f66-07aa-4549-8bb4-60901390a3aa",
   "metadata": {},
   "outputs": [
    {
     "data": {
      "text/html": [
       "<div>\n",
       "<style scoped>\n",
       "    .dataframe tbody tr th:only-of-type {\n",
       "        vertical-align: middle;\n",
       "    }\n",
       "\n",
       "    .dataframe tbody tr th {\n",
       "        vertical-align: top;\n",
       "    }\n",
       "\n",
       "    .dataframe thead th {\n",
       "        text-align: right;\n",
       "    }\n",
       "</style>\n",
       "<table border=\"1\" class=\"dataframe\">\n",
       "  <thead>\n",
       "    <tr style=\"text-align: right;\">\n",
       "      <th></th>\n",
       "      <th>Id</th>\n",
       "      <th>ActivityDay</th>\n",
       "      <th>SedentaryMinutes</th>\n",
       "      <th>LightlyActiveMinutes</th>\n",
       "      <th>FairlyActiveMinutes</th>\n",
       "      <th>VeryActiveMinutes</th>\n",
       "      <th>SedentaryActiveDistance</th>\n",
       "      <th>LightActiveDistance</th>\n",
       "      <th>ModeratelyActiveDistance</th>\n",
       "      <th>VeryActiveDistance</th>\n",
       "    </tr>\n",
       "  </thead>\n",
       "  <tbody>\n",
       "    <tr>\n",
       "      <th>0</th>\n",
       "      <td>1503960366</td>\n",
       "      <td>4/12/2016</td>\n",
       "      <td>728</td>\n",
       "      <td>328</td>\n",
       "      <td>13</td>\n",
       "      <td>25</td>\n",
       "      <td>0.0</td>\n",
       "      <td>6.06</td>\n",
       "      <td>0.55</td>\n",
       "      <td>1.88</td>\n",
       "    </tr>\n",
       "    <tr>\n",
       "      <th>1</th>\n",
       "      <td>1503960366</td>\n",
       "      <td>4/13/2016</td>\n",
       "      <td>776</td>\n",
       "      <td>217</td>\n",
       "      <td>19</td>\n",
       "      <td>21</td>\n",
       "      <td>0.0</td>\n",
       "      <td>4.71</td>\n",
       "      <td>0.69</td>\n",
       "      <td>1.57</td>\n",
       "    </tr>\n",
       "    <tr>\n",
       "      <th>2</th>\n",
       "      <td>1503960366</td>\n",
       "      <td>4/14/2016</td>\n",
       "      <td>1218</td>\n",
       "      <td>181</td>\n",
       "      <td>11</td>\n",
       "      <td>30</td>\n",
       "      <td>0.0</td>\n",
       "      <td>3.91</td>\n",
       "      <td>0.40</td>\n",
       "      <td>2.44</td>\n",
       "    </tr>\n",
       "    <tr>\n",
       "      <th>3</th>\n",
       "      <td>1503960366</td>\n",
       "      <td>4/15/2016</td>\n",
       "      <td>726</td>\n",
       "      <td>209</td>\n",
       "      <td>34</td>\n",
       "      <td>29</td>\n",
       "      <td>0.0</td>\n",
       "      <td>2.83</td>\n",
       "      <td>1.26</td>\n",
       "      <td>2.14</td>\n",
       "    </tr>\n",
       "    <tr>\n",
       "      <th>4</th>\n",
       "      <td>1503960366</td>\n",
       "      <td>4/16/2016</td>\n",
       "      <td>773</td>\n",
       "      <td>221</td>\n",
       "      <td>10</td>\n",
       "      <td>36</td>\n",
       "      <td>0.0</td>\n",
       "      <td>5.04</td>\n",
       "      <td>0.41</td>\n",
       "      <td>2.71</td>\n",
       "    </tr>\n",
       "  </tbody>\n",
       "</table>\n",
       "</div>"
      ],
      "text/plain": [
       "           Id ActivityDay  ...  ModeratelyActiveDistance  VeryActiveDistance\n",
       "0  1503960366   4/12/2016  ...                      0.55                1.88\n",
       "1  1503960366   4/13/2016  ...                      0.69                1.57\n",
       "2  1503960366   4/14/2016  ...                      0.40                2.44\n",
       "3  1503960366   4/15/2016  ...                      1.26                2.14\n",
       "4  1503960366   4/16/2016  ...                      0.41                2.71\n",
       "\n",
       "[5 rows x 10 columns]"
      ]
     },
     "execution_count": 9,
     "metadata": {},
     "output_type": "execute_result"
    }
   ],
   "source": [
    "daily_intensity.head()"
   ]
  },
  {
   "cell_type": "code",
   "execution_count": 10,
   "id": "92075812-2f8f-4c2e-83f2-441ea986e90c",
   "metadata": {},
   "outputs": [
    {
     "data": {
      "text/html": [
       "<div>\n",
       "<style scoped>\n",
       "    .dataframe tbody tr th:only-of-type {\n",
       "        vertical-align: middle;\n",
       "    }\n",
       "\n",
       "    .dataframe tbody tr th {\n",
       "        vertical-align: top;\n",
       "    }\n",
       "\n",
       "    .dataframe thead th {\n",
       "        text-align: right;\n",
       "    }\n",
       "</style>\n",
       "<table border=\"1\" class=\"dataframe\">\n",
       "  <thead>\n",
       "    <tr style=\"text-align: right;\">\n",
       "      <th></th>\n",
       "      <th>Id</th>\n",
       "      <th>Date</th>\n",
       "      <th>WeightKg</th>\n",
       "      <th>WeightPounds</th>\n",
       "      <th>Fat</th>\n",
       "      <th>BMI</th>\n",
       "      <th>IsManualReport</th>\n",
       "      <th>LogId</th>\n",
       "    </tr>\n",
       "  </thead>\n",
       "  <tbody>\n",
       "    <tr>\n",
       "      <th>0</th>\n",
       "      <td>1503960366</td>\n",
       "      <td>5/2/2016 11:59:59 PM</td>\n",
       "      <td>52.599998</td>\n",
       "      <td>115.963147</td>\n",
       "      <td>22.0</td>\n",
       "      <td>22.650000</td>\n",
       "      <td>True</td>\n",
       "      <td>1462233599000</td>\n",
       "    </tr>\n",
       "    <tr>\n",
       "      <th>1</th>\n",
       "      <td>1503960366</td>\n",
       "      <td>5/3/2016 11:59:59 PM</td>\n",
       "      <td>52.599998</td>\n",
       "      <td>115.963147</td>\n",
       "      <td>NaN</td>\n",
       "      <td>22.650000</td>\n",
       "      <td>True</td>\n",
       "      <td>1462319999000</td>\n",
       "    </tr>\n",
       "    <tr>\n",
       "      <th>2</th>\n",
       "      <td>1927972279</td>\n",
       "      <td>4/13/2016 1:08:52 AM</td>\n",
       "      <td>133.500000</td>\n",
       "      <td>294.317120</td>\n",
       "      <td>NaN</td>\n",
       "      <td>47.540001</td>\n",
       "      <td>False</td>\n",
       "      <td>1460509732000</td>\n",
       "    </tr>\n",
       "    <tr>\n",
       "      <th>3</th>\n",
       "      <td>2873212765</td>\n",
       "      <td>4/21/2016 11:59:59 PM</td>\n",
       "      <td>56.700001</td>\n",
       "      <td>125.002104</td>\n",
       "      <td>NaN</td>\n",
       "      <td>21.450001</td>\n",
       "      <td>True</td>\n",
       "      <td>1461283199000</td>\n",
       "    </tr>\n",
       "    <tr>\n",
       "      <th>4</th>\n",
       "      <td>2873212765</td>\n",
       "      <td>5/12/2016 11:59:59 PM</td>\n",
       "      <td>57.299999</td>\n",
       "      <td>126.324875</td>\n",
       "      <td>NaN</td>\n",
       "      <td>21.690001</td>\n",
       "      <td>True</td>\n",
       "      <td>1463097599000</td>\n",
       "    </tr>\n",
       "  </tbody>\n",
       "</table>\n",
       "</div>"
      ],
      "text/plain": [
       "           Id                   Date  ...  IsManualReport          LogId\n",
       "0  1503960366   5/2/2016 11:59:59 PM  ...            True  1462233599000\n",
       "1  1503960366   5/3/2016 11:59:59 PM  ...            True  1462319999000\n",
       "2  1927972279   4/13/2016 1:08:52 AM  ...           False  1460509732000\n",
       "3  2873212765  4/21/2016 11:59:59 PM  ...            True  1461283199000\n",
       "4  2873212765  5/12/2016 11:59:59 PM  ...            True  1463097599000\n",
       "\n",
       "[5 rows x 8 columns]"
      ]
     },
     "execution_count": 10,
     "metadata": {},
     "output_type": "execute_result"
    }
   ],
   "source": [
    "weight_log.head()"
   ]
  },
  {
   "cell_type": "code",
   "execution_count": 11,
   "id": "7011f452-6ee0-45d5-86e9-df9489923bda",
   "metadata": {},
   "outputs": [
    {
     "data": {
      "text/html": [
       "<div>\n",
       "<style scoped>\n",
       "    .dataframe tbody tr th:only-of-type {\n",
       "        vertical-align: middle;\n",
       "    }\n",
       "\n",
       "    .dataframe tbody tr th {\n",
       "        vertical-align: top;\n",
       "    }\n",
       "\n",
       "    .dataframe thead th {\n",
       "        text-align: right;\n",
       "    }\n",
       "</style>\n",
       "<table border=\"1\" class=\"dataframe\">\n",
       "  <thead>\n",
       "    <tr style=\"text-align: right;\">\n",
       "      <th></th>\n",
       "      <th>Id</th>\n",
       "      <th>ActivityDay</th>\n",
       "      <th>StepTotal</th>\n",
       "    </tr>\n",
       "  </thead>\n",
       "  <tbody>\n",
       "    <tr>\n",
       "      <th>0</th>\n",
       "      <td>1503960366</td>\n",
       "      <td>4/12/2016</td>\n",
       "      <td>13162</td>\n",
       "    </tr>\n",
       "    <tr>\n",
       "      <th>1</th>\n",
       "      <td>1503960366</td>\n",
       "      <td>4/13/2016</td>\n",
       "      <td>10735</td>\n",
       "    </tr>\n",
       "    <tr>\n",
       "      <th>2</th>\n",
       "      <td>1503960366</td>\n",
       "      <td>4/14/2016</td>\n",
       "      <td>10460</td>\n",
       "    </tr>\n",
       "    <tr>\n",
       "      <th>3</th>\n",
       "      <td>1503960366</td>\n",
       "      <td>4/15/2016</td>\n",
       "      <td>9762</td>\n",
       "    </tr>\n",
       "    <tr>\n",
       "      <th>4</th>\n",
       "      <td>1503960366</td>\n",
       "      <td>4/16/2016</td>\n",
       "      <td>12669</td>\n",
       "    </tr>\n",
       "  </tbody>\n",
       "</table>\n",
       "</div>"
      ],
      "text/plain": [
       "           Id ActivityDay  StepTotal\n",
       "0  1503960366   4/12/2016      13162\n",
       "1  1503960366   4/13/2016      10735\n",
       "2  1503960366   4/14/2016      10460\n",
       "3  1503960366   4/15/2016       9762\n",
       "4  1503960366   4/16/2016      12669"
      ]
     },
     "execution_count": 11,
     "metadata": {},
     "output_type": "execute_result"
    }
   ],
   "source": [
    "daily_steps.head()"
   ]
  },
  {
   "cell_type": "code",
   "execution_count": 12,
   "id": "32cab1fd-c6a2-47fe-afd1-7755f68e0d62",
   "metadata": {},
   "outputs": [
    {
     "data": {
      "text/html": [
       "<div>\n",
       "<style scoped>\n",
       "    .dataframe tbody tr th:only-of-type {\n",
       "        vertical-align: middle;\n",
       "    }\n",
       "\n",
       "    .dataframe tbody tr th {\n",
       "        vertical-align: top;\n",
       "    }\n",
       "\n",
       "    .dataframe thead th {\n",
       "        text-align: right;\n",
       "    }\n",
       "</style>\n",
       "<table border=\"1\" class=\"dataframe\">\n",
       "  <thead>\n",
       "    <tr style=\"text-align: right;\">\n",
       "      <th></th>\n",
       "      <th>Id</th>\n",
       "      <th>Time</th>\n",
       "      <th>Value</th>\n",
       "    </tr>\n",
       "  </thead>\n",
       "  <tbody>\n",
       "    <tr>\n",
       "      <th>0</th>\n",
       "      <td>2022484408</td>\n",
       "      <td>4/12/2016 7:21:00 AM</td>\n",
       "      <td>97</td>\n",
       "    </tr>\n",
       "    <tr>\n",
       "      <th>1</th>\n",
       "      <td>2022484408</td>\n",
       "      <td>4/12/2016 7:21:05 AM</td>\n",
       "      <td>102</td>\n",
       "    </tr>\n",
       "    <tr>\n",
       "      <th>2</th>\n",
       "      <td>2022484408</td>\n",
       "      <td>4/12/2016 7:21:10 AM</td>\n",
       "      <td>105</td>\n",
       "    </tr>\n",
       "    <tr>\n",
       "      <th>3</th>\n",
       "      <td>2022484408</td>\n",
       "      <td>4/12/2016 7:21:20 AM</td>\n",
       "      <td>103</td>\n",
       "    </tr>\n",
       "    <tr>\n",
       "      <th>4</th>\n",
       "      <td>2022484408</td>\n",
       "      <td>4/12/2016 7:21:25 AM</td>\n",
       "      <td>101</td>\n",
       "    </tr>\n",
       "  </tbody>\n",
       "</table>\n",
       "</div>"
      ],
      "text/plain": [
       "           Id                  Time  Value\n",
       "0  2022484408  4/12/2016 7:21:00 AM     97\n",
       "1  2022484408  4/12/2016 7:21:05 AM    102\n",
       "2  2022484408  4/12/2016 7:21:10 AM    105\n",
       "3  2022484408  4/12/2016 7:21:20 AM    103\n",
       "4  2022484408  4/12/2016 7:21:25 AM    101"
      ]
     },
     "execution_count": 12,
     "metadata": {},
     "output_type": "execute_result"
    }
   ],
   "source": [
    "heartrate_secs.head()"
   ]
  },
  {
   "cell_type": "markdown",
   "id": "1b8cd16c-108d-4179-8f28-c7f6eb930e0f",
   "metadata": {},
   "source": [
    "### Let's see how many unique users are present in each dataset."
   ]
  },
  {
   "cell_type": "code",
   "execution_count": 234,
   "id": "c0c15bf2-1f1c-4c61-bed7-c61f19950eee",
   "metadata": {},
   "outputs": [
    {
     "name": "stdout",
     "output_type": "stream",
     "text": [
      "Daily Activity Dataset: 33 unique users\n",
      "Hourly Steps Dataset: 33 unique users\n",
      "Hourly Calories Dataset: 33 unique users\n",
      "SleepDay Dataset: 24 unique users\n",
      "Daily Calories Dataset: 33 unique users\n",
      "Daily Intensity Dataset: 33 unique users\n",
      "Weight Logged Dataset: 8 unique users\n",
      "Daily Steps Dataset: 33 unique users\n",
      "Heart Rate Dataset: 14 unique users\n"
     ]
    }
   ],
   "source": [
    "print(\"Daily Activity Dataset:\",daily_activity.Id.nunique(), \"unique users\")\n",
    "print(\"Hourly Steps Dataset:\",hourly_steps.Id.nunique(), \"unique users\")\n",
    "print(\"Hourly Calories Dataset:\",hourly_calories.Id.nunique(), \"unique users\")\n",
    "print(\"SleepDay Dataset:\",sleepday.Id.nunique(), \"unique users\")\n",
    "print(\"Daily Calories Dataset:\",daily_calories.Id.nunique(), \"unique users\")  \n",
    "print(\"Daily Intensity Dataset:\",daily_intensity.Id.nunique(), \"unique users\")\n",
    "print(\"Weight Logged Dataset:\",weight_log.Id.nunique(), \"unique users\")\n",
    "print(\"Daily Steps Dataset:\",daily_steps.Id.nunique(), \"unique users\")\n",
    "print(\"Heart Rate Dataset:\",heartrate_secs.Id.nunique(), \"unique users\")"
   ]
  },
  {
   "cell_type": "markdown",
   "id": "8e2616a8-4ca6-4aec-ac0f-652f652c2f03",
   "metadata": {},
   "source": [
    "### Let's view the data types in each dataset."
   ]
  },
  {
   "cell_type": "code",
   "execution_count": 28,
   "id": "fd1b2627-1ced-43b4-a13e-492d153ce556",
   "metadata": {},
   "outputs": [
    {
     "data": {
      "text/plain": [
       "Id                            int64\n",
       "ActivityDate                 object\n",
       "TotalSteps                    int64\n",
       "TotalDistance               float64\n",
       "TrackerDistance             float64\n",
       "LoggedActivitiesDistance    float64\n",
       "VeryActiveDistance          float64\n",
       "ModeratelyActiveDistance    float64\n",
       "LightActiveDistance         float64\n",
       "SedentaryActiveDistance     float64\n",
       "VeryActiveMinutes             int64\n",
       "FairlyActiveMinutes           int64\n",
       "LightlyActiveMinutes          int64\n",
       "SedentaryMinutes              int64\n",
       "Calories                      int64\n",
       "dtype: object"
      ]
     },
     "execution_count": 28,
     "metadata": {},
     "output_type": "execute_result"
    }
   ],
   "source": [
    "daily_activity.dtypes"
   ]
  },
  {
   "cell_type": "code",
   "execution_count": 16,
   "id": "43006370-ad17-4ff2-b706-3dd7be3d68af",
   "metadata": {},
   "outputs": [
    {
     "data": {
      "text/plain": [
       "Id               int64\n",
       "ActivityHour    object\n",
       "StepTotal        int64\n",
       "dtype: object"
      ]
     },
     "execution_count": 16,
     "metadata": {},
     "output_type": "execute_result"
    }
   ],
   "source": [
    "hourly_steps.dtypes"
   ]
  },
  {
   "cell_type": "code",
   "execution_count": 17,
   "id": "3dc4a114-af59-494f-9dbc-34d1ebd9acab",
   "metadata": {},
   "outputs": [
    {
     "data": {
      "text/plain": [
       "Id               int64\n",
       "ActivityHour    object\n",
       "Calories         int64\n",
       "dtype: object"
      ]
     },
     "execution_count": 17,
     "metadata": {},
     "output_type": "execute_result"
    }
   ],
   "source": [
    "hourly_calories.dtypes"
   ]
  },
  {
   "cell_type": "code",
   "execution_count": 18,
   "id": "d95f410e-6b62-46fb-bb75-0ffd234e7f43",
   "metadata": {},
   "outputs": [
    {
     "data": {
      "text/plain": [
       "Id                     int64\n",
       "SleepDay              object\n",
       "TotalSleepRecords      int64\n",
       "TotalMinutesAsleep     int64\n",
       "TotalTimeInBed         int64\n",
       "dtype: object"
      ]
     },
     "execution_count": 18,
     "metadata": {},
     "output_type": "execute_result"
    }
   ],
   "source": [
    "sleepday.dtypes"
   ]
  },
  {
   "cell_type": "code",
   "execution_count": 19,
   "id": "1bac848e-4b5d-48c8-82aa-282266339e2c",
   "metadata": {},
   "outputs": [
    {
     "data": {
      "text/plain": [
       "Id              int64\n",
       "ActivityDay    object\n",
       "Calories        int64\n",
       "dtype: object"
      ]
     },
     "execution_count": 19,
     "metadata": {},
     "output_type": "execute_result"
    }
   ],
   "source": [
    "daily_calories.dtypes"
   ]
  },
  {
   "cell_type": "code",
   "execution_count": 20,
   "id": "7a976463-1359-4c97-8d88-2176f2893bb0",
   "metadata": {},
   "outputs": [
    {
     "data": {
      "text/plain": [
       "Id                            int64\n",
       "ActivityDay                  object\n",
       "SedentaryMinutes              int64\n",
       "LightlyActiveMinutes          int64\n",
       "FairlyActiveMinutes           int64\n",
       "VeryActiveMinutes             int64\n",
       "SedentaryActiveDistance     float64\n",
       "LightActiveDistance         float64\n",
       "ModeratelyActiveDistance    float64\n",
       "VeryActiveDistance          float64\n",
       "dtype: object"
      ]
     },
     "execution_count": 20,
     "metadata": {},
     "output_type": "execute_result"
    }
   ],
   "source": [
    "daily_intensity.dtypes"
   ]
  },
  {
   "cell_type": "code",
   "execution_count": 21,
   "id": "b988b73b-c548-4734-9a17-500da916e62e",
   "metadata": {},
   "outputs": [
    {
     "data": {
      "text/plain": [
       "Id                  int64\n",
       "Date               object\n",
       "WeightKg          float64\n",
       "WeightPounds      float64\n",
       "Fat               float64\n",
       "BMI               float64\n",
       "IsManualReport       bool\n",
       "LogId               int64\n",
       "dtype: object"
      ]
     },
     "execution_count": 21,
     "metadata": {},
     "output_type": "execute_result"
    }
   ],
   "source": [
    "weight_log.dtypes"
   ]
  },
  {
   "cell_type": "code",
   "execution_count": 22,
   "id": "15b4cbd4-df62-43f3-9eee-da0730e4e009",
   "metadata": {},
   "outputs": [
    {
     "data": {
      "text/plain": [
       "Id              int64\n",
       "ActivityDay    object\n",
       "StepTotal       int64\n",
       "dtype: object"
      ]
     },
     "execution_count": 22,
     "metadata": {},
     "output_type": "execute_result"
    }
   ],
   "source": [
    "daily_steps.dtypes"
   ]
  },
  {
   "cell_type": "code",
   "execution_count": 23,
   "id": "c9b4eb67-04e1-4ac4-8216-4a121d8a24dd",
   "metadata": {},
   "outputs": [
    {
     "data": {
      "text/plain": [
       "Id        int64\n",
       "Time     object\n",
       "Value     int64\n",
       "dtype: object"
      ]
     },
     "execution_count": 23,
     "metadata": {},
     "output_type": "execute_result"
    }
   ],
   "source": [
    "heartrate_secs.dtypes"
   ]
  },
  {
   "cell_type": "markdown",
   "id": "d01b09a4-535c-4198-ac50-7b9b96c5cedb",
   "metadata": {},
   "source": [
    "### Let's view their shape."
   ]
  },
  {
   "cell_type": "code",
   "execution_count": 235,
   "id": "940dc9fb-5c26-4ffc-9eab-fe843ab86abc",
   "metadata": {},
   "outputs": [
    {
     "name": "stdout",
     "output_type": "stream",
     "text": [
      "Shape of Daily Activity: (940, 15)\n",
      "Shape of Hourly Steps: (22099, 3)\n",
      "Shape of Hourly Calories: (22099, 3)\n",
      "Shape of SleepDay: (413, 5)\n",
      "Shape of Daily Calories: (940, 3)\n",
      "Shape of Daily Intensity: (940, 10)\n",
      "Shape of Weight Logged: (67, 8)\n",
      "Shape of Daily Steps: (940, 3)\n",
      "Shape of Heart Rate: (2483658, 3)\n"
     ]
    }
   ],
   "source": [
    "print(\"Shape of Daily Activity:\",daily_activity.shape)\n",
    "print(\"Shape of Hourly Steps:\",hourly_steps.shape)\n",
    "print(\"Shape of Hourly Calories:\",hourly_calories.shape)\n",
    "print(\"Shape of SleepDay:\",sleepday.shape)\n",
    "print(\"Shape of Daily Calories:\",daily_calories.shape)  \n",
    "print(\"Shape of Daily Intensity:\",daily_intensity.shape)\n",
    "print(\"Shape of Weight Logged:\",weight_log.shape)\n",
    "print(\"Shape of Daily Steps:\",daily_steps.shape) \n",
    "print(\"Shape of Heart Rate:\",heartrate_secs.shape)"
   ]
  },
  {
   "cell_type": "markdown",
   "id": "86be4da6-5571-4acd-a15b-b65395ab2d10",
   "metadata": {},
   "source": [
    "### Checking if the datasets have missing values."
   ]
  },
  {
   "cell_type": "code",
   "execution_count": 236,
   "id": "427cf40e-529a-4955-b8fe-0f7b54fb38e4",
   "metadata": {},
   "outputs": [
    {
     "name": "stdout",
     "output_type": "stream",
     "text": [
      "Daily Activity Dataset has 0 missing values\n",
      "Hourly Steps Dataset has 0 missing values\n",
      "Hourly Calories Dataset has 0 missing values\n",
      "SleepDay Dataset has 0 missing values\n",
      "Daily Calories Dataset has 0 missing values\n",
      "Daily Intensity Dataset has 0 missing values\n",
      "Daily Steps Dataset has 0 missing values\n",
      "Heart Rate Dataset has 0 missing values\n"
     ]
    }
   ],
   "source": [
    "print(\"Daily Activity Dataset has\",daily_activity.isnull().values.sum(), \"missing values\")\n",
    "print(\"Hourly Steps Dataset has\",hourly_steps.isnull().values.sum(), \"missing values\")\n",
    "print(\"Hourly Calories Dataset has\",hourly_calories.isnull().values.sum(), \"missing values\")\n",
    "print(\"SleepDay Dataset has\",sleepday.isnull().values.sum(), \"missing values\")\n",
    "print(\"Daily Calories Dataset has\",daily_calories.isnull().values.sum(), \"missing values\")  \n",
    "print(\"Daily Intensity Dataset has\",daily_intensity.isnull().values.sum(), \"missing values\")\n",
    "print(\"Daily Steps Dataset has\",daily_steps.isnull().values.sum(), \"missing values\")\n",
    "print(\"Heart Rate Dataset has\",heartrate_secs.isnull().values.sum(), \"missing values\")"
   ]
  },
  {
   "cell_type": "markdown",
   "id": "511753fe-28bd-421f-ab81-fad4ceeb5863",
   "metadata": {},
   "source": [
    "**As we can see that all the dataset has 0 missing/null values. The data preprocessing will be easier in this case.**"
   ]
  },
  {
   "cell_type": "markdown",
   "id": "17c70853-dfd4-4925-9395-b13bcae0e03b",
   "metadata": {},
   "source": [
    "### Checking the dataset for duplicates."
   ]
  },
  {
   "cell_type": "code",
   "execution_count": 237,
   "id": "da9190b4-4ee6-464f-ab63-2ad7a9f70762",
   "metadata": {},
   "outputs": [
    {
     "name": "stdout",
     "output_type": "stream",
     "text": [
      "Duplicates in Daily Acitivity:  0    False\n",
      "1    False\n",
      "2    False\n",
      "dtype: bool\n",
      "Duplicates in Hourly Steps:  0    False\n",
      "1    False\n",
      "2    False\n",
      "dtype: bool\n",
      "Duplicates in Hourly Calories:  0    False\n",
      "1    False\n",
      "2    False\n",
      "dtype: bool\n",
      "Duplicates in Sleepday:  0    False\n",
      "1    False\n",
      "2    False\n",
      "dtype: bool\n",
      "Duplicates in Daily Calories:  0    False\n",
      "1    False\n",
      "2    False\n",
      "dtype: bool\n",
      "Duplicates in Daily Intensity:  0    False\n",
      "1    False\n",
      "2    False\n",
      "dtype: bool\n",
      "Duplicates in Daily Steps:  0    False\n",
      "1    False\n",
      "2    False\n",
      "dtype: bool\n",
      "Duplicates in Heart Rate:  0    False\n",
      "1    False\n",
      "2    False\n",
      "dtype: bool\n"
     ]
    }
   ],
   "source": [
    "print(\"Duplicates in Daily Acitivity: \", daily_activity.duplicated().head(3))\n",
    "print(\"Duplicates in Hourly Steps: \", hourly_steps.duplicated().head(3))\n",
    "print(\"Duplicates in Hourly Calories: \", hourly_calories.duplicated().head(3))\n",
    "print(\"Duplicates in Sleepday: \", sleepday.duplicated().head(3))\n",
    "print(\"Duplicates in Daily Calories: \", daily_calories.duplicated().head(3))\n",
    "print(\"Duplicates in Daily Intensity: \", daily_intensity.duplicated().head(3))\n",
    "print(\"Duplicates in Daily Steps: \", daily_steps.duplicated().head(3))\n",
    "print(\"Duplicates in Heart Rate: \", heartrate_secs.duplicated().head(3))"
   ]
  },
  {
   "cell_type": "markdown",
   "id": "622878bc-131b-4cb0-b48f-728198475dbe",
   "metadata": {},
   "source": [
    "We can see that there are no duplicate values present in the datsets."
   ]
  },
  {
   "cell_type": "markdown",
   "id": "1c750e5c-36f8-490b-a316-9bdc1c57396f",
   "metadata": {},
   "source": [
    "#### Summary of Initial Findings"
   ]
  },
  {
   "cell_type": "markdown",
   "id": "493345d6-b80d-4547-aced-0b072ca3b751",
   "metadata": {},
   "source": [
    "- Of all the datasets we inspected, `heartrate_secs`, `weight_logged` and `sleepday` fell short of our **n>=30** rule (NOTE: here n refers to sample size). `heartrate_secs` has **n=14**, and `weight_logged` only has **n=8**, hence we’re going to drop both of them. `sleepday` has **n=24**, which is also quite small. However, we are going to keep it, since we might gain some relevant insights from it.\n",
    "- `daily_calories`, `daily_intensity`, and `daily_steps` all have exactly the same data that is found in the `daily_activity` dataset. **StepTotal** in `daily_intensity` was only changed to **TotalSteps** in `daily_activity` datasets. Other than that, they are the same data. Hence, we’ll discard them. Leaving us with `daily_activity`, `hourly_steps`, `hourly_calories`, and `sleepday` datasets.\n",
    "- From the shape, I observed that `hourly_steps` and `hourly_calories` have similar structures: (22099, 3). Hence, we can decide to merge them for further analysis.\n",
    "- As for the data types, **ActivityDate** in `daily_activity`, **ActivityHour** in `hourly_steps`, **ActivityHour** in `hourly_calories`, and **SleepDay** in `sleepday` are *objects* instead of *datetime* data type. We’ll have to convert them to *datetime* data type for easy processing.\n",
    "- There are **NO** missing values and duplicates in all datasets."
   ]
  },
  {
   "cell_type": "markdown",
   "id": "95f74152-c9bd-49c7-baa5-f356173566e0",
   "metadata": {},
   "source": [
    "## 6. DATA TRANSFORMATION\n",
    "Let's start by converting the **ActivityDate** in `daily_activity`, **ActivityHour** in `hourly_steps`, **ActivityHour** in `hourly_calories`, and **SleepDay** in `sleepday` to *datetime* data type."
   ]
  },
  {
   "cell_type": "code",
   "execution_count": 238,
   "id": "41147bfb-da8f-43cd-b66b-b14d68acdc7f",
   "metadata": {},
   "outputs": [],
   "source": [
    "daily_activity[\"ActivityDate\"] = pd.to_datetime(daily_activity[\"ActivityDate\"])\n",
    "hourly_steps[\"ActivityHour\"] = pd.to_datetime(hourly_calories[\"ActivityHour\"])\n",
    "hourly_calories[\"ActivityHour\"] = pd.to_datetime(hourly_calories[\"ActivityHour\"])\n",
    "sleepday[\"SleepDay\"] = pd.to_datetime(sleepday[\"SleepDay\"])"
   ]
  },
  {
   "cell_type": "markdown",
   "id": "6f78d31b-2f9a-45b3-937b-7484926c8267",
   "metadata": {},
   "source": [
    "### Checking for Changes."
   ]
  },
  {
   "cell_type": "code",
   "execution_count": 239,
   "id": "6590cae8-fd60-4a85-a452-2514a6845190",
   "metadata": {},
   "outputs": [
    {
     "name": "stdout",
     "output_type": "stream",
     "text": [
      "Daily Activity data type is datetime64[ns] data type\n",
      "Hourly Steps data type is datetime64[ns] data type\n",
      "Hourly Calories data type is datetime64[ns] data type\n",
      "Sleepday data type is datetime64[ns] data type\n"
     ]
    }
   ],
   "source": [
    "print(\"Daily Activity data type is\", daily_activity[\"ActivityDate\"].dtypes, \"data type\")\n",
    "print(\"Hourly Steps data type is\", hourly_steps[\"ActivityHour\"].dtypes, \"data type\")\n",
    "print(\"Hourly Calories data type is\", hourly_calories[\"ActivityHour\"].dtypes, \"data type\")\n",
    "print(\"Sleepday data type is\", sleepday[\"SleepDay\"].dtypes, \"data type\")"
   ]
  },
  {
   "cell_type": "markdown",
   "id": "4ed88888-4635-401b-a852-df842939cf89",
   "metadata": {},
   "source": [
    "### Merging `hourly_steps` with `hourly_calories` dataset below."
   ]
  },
  {
   "cell_type": "code",
   "execution_count": 240,
   "id": "dc5b65e1-1bdc-4236-b387-905f2557ff5a",
   "metadata": {},
   "outputs": [
    {
     "name": "stdout",
     "output_type": "stream",
     "text": [
      "Index(['Id', 'ActivityHour', 'StepTotal'], dtype='object')\n",
      "Index(['Id', 'ActivityHour', 'Calories'], dtype='object')\n"
     ]
    }
   ],
   "source": [
    "for col in hourly_steps.columns, hourly_calories.columns:\n",
    "    print (col)"
   ]
  },
  {
   "cell_type": "markdown",
   "id": "dff6ac20-2ec3-4e50-a7aa-423e0ca9249c",
   "metadata": {},
   "source": [
    "**We can see above that they both share `Id` and `ActivityHour` in common. Hence, we'll merge them on `Id` and `ActivityHour` below.**"
   ]
  },
  {
   "cell_type": "code",
   "execution_count": 241,
   "id": "86b7e0d7-4a4a-4120-8258-545e62f58747",
   "metadata": {},
   "outputs": [
    {
     "data": {
      "text/html": [
       "<div>\n",
       "<style scoped>\n",
       "    .dataframe tbody tr th:only-of-type {\n",
       "        vertical-align: middle;\n",
       "    }\n",
       "\n",
       "    .dataframe tbody tr th {\n",
       "        vertical-align: top;\n",
       "    }\n",
       "\n",
       "    .dataframe thead th {\n",
       "        text-align: right;\n",
       "    }\n",
       "</style>\n",
       "<table border=\"1\" class=\"dataframe\">\n",
       "  <thead>\n",
       "    <tr style=\"text-align: right;\">\n",
       "      <th></th>\n",
       "      <th>Id</th>\n",
       "      <th>ActivityHour</th>\n",
       "      <th>StepTotal</th>\n",
       "      <th>Calories</th>\n",
       "    </tr>\n",
       "  </thead>\n",
       "  <tbody>\n",
       "    <tr>\n",
       "      <th>0</th>\n",
       "      <td>1503960366</td>\n",
       "      <td>2016-04-12 00:00:00</td>\n",
       "      <td>373</td>\n",
       "      <td>81</td>\n",
       "    </tr>\n",
       "    <tr>\n",
       "      <th>1</th>\n",
       "      <td>1503960366</td>\n",
       "      <td>2016-04-12 01:00:00</td>\n",
       "      <td>160</td>\n",
       "      <td>61</td>\n",
       "    </tr>\n",
       "    <tr>\n",
       "      <th>2</th>\n",
       "      <td>1503960366</td>\n",
       "      <td>2016-04-12 02:00:00</td>\n",
       "      <td>151</td>\n",
       "      <td>59</td>\n",
       "    </tr>\n",
       "    <tr>\n",
       "      <th>3</th>\n",
       "      <td>1503960366</td>\n",
       "      <td>2016-04-12 03:00:00</td>\n",
       "      <td>0</td>\n",
       "      <td>47</td>\n",
       "    </tr>\n",
       "    <tr>\n",
       "      <th>4</th>\n",
       "      <td>1503960366</td>\n",
       "      <td>2016-04-12 04:00:00</td>\n",
       "      <td>0</td>\n",
       "      <td>48</td>\n",
       "    </tr>\n",
       "  </tbody>\n",
       "</table>\n",
       "</div>"
      ],
      "text/plain": [
       "           Id        ActivityHour  StepTotal  Calories\n",
       "0  1503960366 2016-04-12 00:00:00        373        81\n",
       "1  1503960366 2016-04-12 01:00:00        160        61\n",
       "2  1503960366 2016-04-12 02:00:00        151        59\n",
       "3  1503960366 2016-04-12 03:00:00          0        47\n",
       "4  1503960366 2016-04-12 04:00:00          0        48"
      ]
     },
     "execution_count": 241,
     "metadata": {},
     "output_type": "execute_result"
    }
   ],
   "source": [
    "merge_df = pd.merge(hourly_steps, hourly_calories,\n",
    "                    on=['Id', 'ActivityHour'], how='inner')\n",
    "\n",
    "merge_df.head()"
   ]
  },
  {
   "cell_type": "markdown",
   "id": "6d14488c-3d9a-4eda-b504-cb77414a2b60",
   "metadata": {},
   "source": [
    "### Creating new columns.\n",
    "\n",
    "Let's create a new column (WeekDay) from the `ActivityHour` in our new dataset `merged_df`, and `ActivityDate` in `daily_activity`. This will help us see if the days of the week has any bearing on our analysis."
   ]
  },
  {
   "cell_type": "code",
   "execution_count": 242,
   "id": "a0269b9a-4316-40c2-ac26-176f20496da5",
   "metadata": {},
   "outputs": [],
   "source": [
    "daily_activity[\"WeekDay\"] = daily_activity[\"ActivityDate\"].dt.day_name()\n",
    "merge_df[\"WeekDay\"] = merge_df[\"ActivityHour\"].dt.day_name()\n",
    "sleepday[\"WeekDay\"] = sleepday[\"SleepDay\"].dt.day_name()"
   ]
  },
  {
   "cell_type": "code",
   "execution_count": 46,
   "id": "ce2ebcf1-8964-411d-9718-24ed6f9d9c04",
   "metadata": {},
   "outputs": [
    {
     "data": {
      "text/html": [
       "<div>\n",
       "<style scoped>\n",
       "    .dataframe tbody tr th:only-of-type {\n",
       "        vertical-align: middle;\n",
       "    }\n",
       "\n",
       "    .dataframe tbody tr th {\n",
       "        vertical-align: top;\n",
       "    }\n",
       "\n",
       "    .dataframe thead th {\n",
       "        text-align: right;\n",
       "    }\n",
       "</style>\n",
       "<table border=\"1\" class=\"dataframe\">\n",
       "  <thead>\n",
       "    <tr style=\"text-align: right;\">\n",
       "      <th></th>\n",
       "      <th>Id</th>\n",
       "      <th>ActivityHour</th>\n",
       "      <th>StepTotal</th>\n",
       "      <th>Calories</th>\n",
       "      <th>WeekDay</th>\n",
       "    </tr>\n",
       "  </thead>\n",
       "  <tbody>\n",
       "    <tr>\n",
       "      <th>0</th>\n",
       "      <td>1503960366</td>\n",
       "      <td>2016-04-12 00:00:00</td>\n",
       "      <td>373</td>\n",
       "      <td>81</td>\n",
       "      <td>Tuesday</td>\n",
       "    </tr>\n",
       "    <tr>\n",
       "      <th>1</th>\n",
       "      <td>1503960366</td>\n",
       "      <td>2016-04-12 01:00:00</td>\n",
       "      <td>160</td>\n",
       "      <td>61</td>\n",
       "      <td>Tuesday</td>\n",
       "    </tr>\n",
       "    <tr>\n",
       "      <th>2</th>\n",
       "      <td>1503960366</td>\n",
       "      <td>2016-04-12 02:00:00</td>\n",
       "      <td>151</td>\n",
       "      <td>59</td>\n",
       "      <td>Tuesday</td>\n",
       "    </tr>\n",
       "    <tr>\n",
       "      <th>3</th>\n",
       "      <td>1503960366</td>\n",
       "      <td>2016-04-12 03:00:00</td>\n",
       "      <td>0</td>\n",
       "      <td>47</td>\n",
       "      <td>Tuesday</td>\n",
       "    </tr>\n",
       "    <tr>\n",
       "      <th>4</th>\n",
       "      <td>1503960366</td>\n",
       "      <td>2016-04-12 04:00:00</td>\n",
       "      <td>0</td>\n",
       "      <td>48</td>\n",
       "      <td>Tuesday</td>\n",
       "    </tr>\n",
       "  </tbody>\n",
       "</table>\n",
       "</div>"
      ],
      "text/plain": [
       "           Id        ActivityHour  StepTotal  Calories  WeekDay\n",
       "0  1503960366 2016-04-12 00:00:00        373        81  Tuesday\n",
       "1  1503960366 2016-04-12 01:00:00        160        61  Tuesday\n",
       "2  1503960366 2016-04-12 02:00:00        151        59  Tuesday\n",
       "3  1503960366 2016-04-12 03:00:00          0        47  Tuesday\n",
       "4  1503960366 2016-04-12 04:00:00          0        48  Tuesday"
      ]
     },
     "execution_count": 46,
     "metadata": {},
     "output_type": "execute_result"
    }
   ],
   "source": [
    "# viewing changes\n",
    "merge_df.head()"
   ]
  },
  {
   "cell_type": "markdown",
   "id": "ec00fa1b-4994-4ab0-89e4-cb54b550ca07",
   "metadata": {},
   "source": [
    "**We still need to make some changes to the `merge_df` dataframe. We need to extract the `ActivityHour` column by creating a separate column.**"
   ]
  },
  {
   "cell_type": "code",
   "execution_count": 243,
   "id": "af990e5f-c959-4e89-8af7-ff8383031198",
   "metadata": {},
   "outputs": [],
   "source": [
    "merge_df[\"DateHour\"] = merge_df[\"ActivityHour\"].dt.hour"
   ]
  },
  {
   "cell_type": "code",
   "execution_count": 195,
   "id": "806998c4-c00c-4e78-ad77-a53bca65644b",
   "metadata": {},
   "outputs": [
    {
     "data": {
      "text/html": [
       "<div>\n",
       "<style scoped>\n",
       "    .dataframe tbody tr th:only-of-type {\n",
       "        vertical-align: middle;\n",
       "    }\n",
       "\n",
       "    .dataframe tbody tr th {\n",
       "        vertical-align: top;\n",
       "    }\n",
       "\n",
       "    .dataframe thead th {\n",
       "        text-align: right;\n",
       "    }\n",
       "</style>\n",
       "<table border=\"1\" class=\"dataframe\">\n",
       "  <thead>\n",
       "    <tr style=\"text-align: right;\">\n",
       "      <th></th>\n",
       "      <th>Id</th>\n",
       "      <th>ActivityHour</th>\n",
       "      <th>StepTotal</th>\n",
       "      <th>Calories</th>\n",
       "      <th>WeekDay</th>\n",
       "      <th>DateHour</th>\n",
       "    </tr>\n",
       "  </thead>\n",
       "  <tbody>\n",
       "    <tr>\n",
       "      <th>0</th>\n",
       "      <td>1503960366</td>\n",
       "      <td>2016-04-12 00:00:00</td>\n",
       "      <td>373</td>\n",
       "      <td>81</td>\n",
       "      <td>Tuesday</td>\n",
       "      <td>0</td>\n",
       "    </tr>\n",
       "    <tr>\n",
       "      <th>1</th>\n",
       "      <td>1503960366</td>\n",
       "      <td>2016-04-12 01:00:00</td>\n",
       "      <td>160</td>\n",
       "      <td>61</td>\n",
       "      <td>Tuesday</td>\n",
       "      <td>1</td>\n",
       "    </tr>\n",
       "    <tr>\n",
       "      <th>2</th>\n",
       "      <td>1503960366</td>\n",
       "      <td>2016-04-12 02:00:00</td>\n",
       "      <td>151</td>\n",
       "      <td>59</td>\n",
       "      <td>Tuesday</td>\n",
       "      <td>2</td>\n",
       "    </tr>\n",
       "    <tr>\n",
       "      <th>3</th>\n",
       "      <td>1503960366</td>\n",
       "      <td>2016-04-12 03:00:00</td>\n",
       "      <td>0</td>\n",
       "      <td>47</td>\n",
       "      <td>Tuesday</td>\n",
       "      <td>3</td>\n",
       "    </tr>\n",
       "    <tr>\n",
       "      <th>4</th>\n",
       "      <td>1503960366</td>\n",
       "      <td>2016-04-12 04:00:00</td>\n",
       "      <td>0</td>\n",
       "      <td>48</td>\n",
       "      <td>Tuesday</td>\n",
       "      <td>4</td>\n",
       "    </tr>\n",
       "  </tbody>\n",
       "</table>\n",
       "</div>"
      ],
      "text/plain": [
       "           Id        ActivityHour  StepTotal  Calories  WeekDay  DateHour\n",
       "0  1503960366 2016-04-12 00:00:00        373        81  Tuesday         0\n",
       "1  1503960366 2016-04-12 01:00:00        160        61  Tuesday         1\n",
       "2  1503960366 2016-04-12 02:00:00        151        59  Tuesday         2\n",
       "3  1503960366 2016-04-12 03:00:00          0        47  Tuesday         3\n",
       "4  1503960366 2016-04-12 04:00:00          0        48  Tuesday         4"
      ]
     },
     "execution_count": 195,
     "metadata": {},
     "output_type": "execute_result"
    }
   ],
   "source": [
    "merge_df.head()"
   ]
  },
  {
   "cell_type": "markdown",
   "id": "e6262745-5295-48e2-ac21-bad9d922dbe4",
   "metadata": {},
   "source": [
    "**We have created a separate column `DateHour`, let's remove the Hour, min, and sec.**"
   ]
  },
  {
   "cell_type": "code",
   "execution_count": 244,
   "id": "701aa6d3-9ed9-46af-a9d9-083b9d225a4e",
   "metadata": {},
   "outputs": [],
   "source": [
    "merge_df[\"ActivityDay\"] = merge_df[\"ActivityHour\"].dt.date"
   ]
  },
  {
   "cell_type": "markdown",
   "id": "5830051c-bbc4-4322-abfb-14299e543e7a",
   "metadata": {},
   "source": [
    "### Drop ActivityHour column"
   ]
  },
  {
   "cell_type": "code",
   "execution_count": 245,
   "id": "f1a3d788-5217-4820-894d-807a091679a1",
   "metadata": {},
   "outputs": [
    {
     "data": {
      "text/html": [
       "<div>\n",
       "<style scoped>\n",
       "    .dataframe tbody tr th:only-of-type {\n",
       "        vertical-align: middle;\n",
       "    }\n",
       "\n",
       "    .dataframe tbody tr th {\n",
       "        vertical-align: top;\n",
       "    }\n",
       "\n",
       "    .dataframe thead th {\n",
       "        text-align: right;\n",
       "    }\n",
       "</style>\n",
       "<table border=\"1\" class=\"dataframe\">\n",
       "  <thead>\n",
       "    <tr style=\"text-align: right;\">\n",
       "      <th></th>\n",
       "      <th>Id</th>\n",
       "      <th>StepTotal</th>\n",
       "      <th>Calories</th>\n",
       "      <th>WeekDay</th>\n",
       "      <th>DateHour</th>\n",
       "      <th>ActivityDay</th>\n",
       "    </tr>\n",
       "  </thead>\n",
       "  <tbody>\n",
       "    <tr>\n",
       "      <th>0</th>\n",
       "      <td>1503960366</td>\n",
       "      <td>373</td>\n",
       "      <td>81</td>\n",
       "      <td>Tuesday</td>\n",
       "      <td>0</td>\n",
       "      <td>2016-04-12</td>\n",
       "    </tr>\n",
       "    <tr>\n",
       "      <th>1</th>\n",
       "      <td>1503960366</td>\n",
       "      <td>160</td>\n",
       "      <td>61</td>\n",
       "      <td>Tuesday</td>\n",
       "      <td>1</td>\n",
       "      <td>2016-04-12</td>\n",
       "    </tr>\n",
       "    <tr>\n",
       "      <th>2</th>\n",
       "      <td>1503960366</td>\n",
       "      <td>151</td>\n",
       "      <td>59</td>\n",
       "      <td>Tuesday</td>\n",
       "      <td>2</td>\n",
       "      <td>2016-04-12</td>\n",
       "    </tr>\n",
       "    <tr>\n",
       "      <th>3</th>\n",
       "      <td>1503960366</td>\n",
       "      <td>0</td>\n",
       "      <td>47</td>\n",
       "      <td>Tuesday</td>\n",
       "      <td>3</td>\n",
       "      <td>2016-04-12</td>\n",
       "    </tr>\n",
       "    <tr>\n",
       "      <th>4</th>\n",
       "      <td>1503960366</td>\n",
       "      <td>0</td>\n",
       "      <td>48</td>\n",
       "      <td>Tuesday</td>\n",
       "      <td>4</td>\n",
       "      <td>2016-04-12</td>\n",
       "    </tr>\n",
       "  </tbody>\n",
       "</table>\n",
       "</div>"
      ],
      "text/plain": [
       "           Id  StepTotal  Calories  WeekDay  DateHour ActivityDay\n",
       "0  1503960366        373        81  Tuesday         0  2016-04-12\n",
       "1  1503960366        160        61  Tuesday         1  2016-04-12\n",
       "2  1503960366        151        59  Tuesday         2  2016-04-12\n",
       "3  1503960366          0        47  Tuesday         3  2016-04-12\n",
       "4  1503960366          0        48  Tuesday         4  2016-04-12"
      ]
     },
     "execution_count": 245,
     "metadata": {},
     "output_type": "execute_result"
    }
   ],
   "source": [
    "merge_df = merge_df.drop(\"ActivityHour\", axis = 1)\n",
    "merge_df.head()"
   ]
  },
  {
   "cell_type": "markdown",
   "id": "e4dc2584-b8a6-49f7-82df-bfc308030822",
   "metadata": {},
   "source": [
    "### Changing ActivityDay column to DateTime data type."
   ]
  },
  {
   "cell_type": "code",
   "execution_count": 246,
   "id": "9daeb394-53d9-47c8-81ee-debb3eca63aa",
   "metadata": {},
   "outputs": [],
   "source": [
    "merge_df[\"ActivityDay\"] = pd.to_datetime(merge_df[\"ActivityDay\"])"
   ]
  },
  {
   "cell_type": "markdown",
   "id": "9303e330-e7ed-4818-b69f-dbefae899b90",
   "metadata": {},
   "source": [
    "**We're going to merge `sleepday` with `merge_df` to create a new dataframe that contains sleepday record with calories for some analysis. Hence, before we do, let's change the column name `SleepDay` in sleepday df, so it matches `ActivityDay` in merge_df.**"
   ]
  },
  {
   "cell_type": "code",
   "execution_count": 200,
   "id": "30ebb5b3-5279-4543-bab8-88b6b4e4b4ae",
   "metadata": {},
   "outputs": [
    {
     "data": {
      "text/html": [
       "<div>\n",
       "<style scoped>\n",
       "    .dataframe tbody tr th:only-of-type {\n",
       "        vertical-align: middle;\n",
       "    }\n",
       "\n",
       "    .dataframe tbody tr th {\n",
       "        vertical-align: top;\n",
       "    }\n",
       "\n",
       "    .dataframe thead th {\n",
       "        text-align: right;\n",
       "    }\n",
       "</style>\n",
       "<table border=\"1\" class=\"dataframe\">\n",
       "  <thead>\n",
       "    <tr style=\"text-align: right;\">\n",
       "      <th></th>\n",
       "      <th>Id</th>\n",
       "      <th>ActivityDay</th>\n",
       "      <th>TotalSleepRecords</th>\n",
       "      <th>TotalMinutesAsleep</th>\n",
       "      <th>TotalTimeInBed</th>\n",
       "      <th>WeekDay</th>\n",
       "    </tr>\n",
       "  </thead>\n",
       "  <tbody>\n",
       "    <tr>\n",
       "      <th>0</th>\n",
       "      <td>1503960366</td>\n",
       "      <td>2016-04-12</td>\n",
       "      <td>1</td>\n",
       "      <td>327</td>\n",
       "      <td>346</td>\n",
       "      <td>Tuesday</td>\n",
       "    </tr>\n",
       "    <tr>\n",
       "      <th>1</th>\n",
       "      <td>1503960366</td>\n",
       "      <td>2016-04-13</td>\n",
       "      <td>2</td>\n",
       "      <td>384</td>\n",
       "      <td>407</td>\n",
       "      <td>Wednesday</td>\n",
       "    </tr>\n",
       "    <tr>\n",
       "      <th>2</th>\n",
       "      <td>1503960366</td>\n",
       "      <td>2016-04-15</td>\n",
       "      <td>1</td>\n",
       "      <td>412</td>\n",
       "      <td>442</td>\n",
       "      <td>Friday</td>\n",
       "    </tr>\n",
       "    <tr>\n",
       "      <th>3</th>\n",
       "      <td>1503960366</td>\n",
       "      <td>2016-04-16</td>\n",
       "      <td>2</td>\n",
       "      <td>340</td>\n",
       "      <td>367</td>\n",
       "      <td>Saturday</td>\n",
       "    </tr>\n",
       "    <tr>\n",
       "      <th>4</th>\n",
       "      <td>1503960366</td>\n",
       "      <td>2016-04-17</td>\n",
       "      <td>1</td>\n",
       "      <td>700</td>\n",
       "      <td>712</td>\n",
       "      <td>Sunday</td>\n",
       "    </tr>\n",
       "  </tbody>\n",
       "</table>\n",
       "</div>"
      ],
      "text/plain": [
       "           Id ActivityDay  ...  TotalTimeInBed    WeekDay\n",
       "0  1503960366  2016-04-12  ...             346    Tuesday\n",
       "1  1503960366  2016-04-13  ...             407  Wednesday\n",
       "2  1503960366  2016-04-15  ...             442     Friday\n",
       "3  1503960366  2016-04-16  ...             367   Saturday\n",
       "4  1503960366  2016-04-17  ...             712     Sunday\n",
       "\n",
       "[5 rows x 6 columns]"
      ]
     },
     "execution_count": 200,
     "metadata": {},
     "output_type": "execute_result"
    }
   ],
   "source": [
    "sleepday = sleepday.rename(columns={'SleepDay': 'ActivityDay'})\n",
    "sleepday.head()"
   ]
  },
  {
   "cell_type": "markdown",
   "id": "a9904e1d-11d5-42d7-8b1b-f9dd2535eb82",
   "metadata": {},
   "source": [
    "**Merging `sleepday` with `merge_df`. But first, let's see what the columns they share in common.**"
   ]
  },
  {
   "cell_type": "code",
   "execution_count": 201,
   "id": "e15d5747-cfcd-48d3-b3ad-5ef714464fd6",
   "metadata": {},
   "outputs": [
    {
     "name": "stdout",
     "output_type": "stream",
     "text": [
      "Index(['Id', 'StepTotal', 'Calories', 'WeekDay', 'DateHour', 'ActivityDay'], dtype='object')\n",
      "Index(['Id', 'ActivityDay', 'TotalSleepRecords', 'TotalMinutesAsleep',\n",
      "       'TotalTimeInBed', 'WeekDay'],\n",
      "      dtype='object')\n"
     ]
    }
   ],
   "source": [
    "for col in merge_df.columns, sleepday.columns:\n",
    "    print (col)"
   ]
  },
  {
   "cell_type": "markdown",
   "id": "59f0467f-ed83-4fcd-b03a-42f3051d20bb",
   "metadata": {},
   "source": [
    "**Since they have `Id`, `ActivityDay` and `WeekDay` in common, we'll merge both dataframes on `Id`, `ActivityDay` and `WeekDay`.**"
   ]
  },
  {
   "cell_type": "code",
   "execution_count": 202,
   "id": "a67e3b71-ad11-4eb9-a191-0937e491586c",
   "metadata": {},
   "outputs": [
    {
     "data": {
      "text/html": [
       "<div>\n",
       "<style scoped>\n",
       "    .dataframe tbody tr th:only-of-type {\n",
       "        vertical-align: middle;\n",
       "    }\n",
       "\n",
       "    .dataframe tbody tr th {\n",
       "        vertical-align: top;\n",
       "    }\n",
       "\n",
       "    .dataframe thead th {\n",
       "        text-align: right;\n",
       "    }\n",
       "</style>\n",
       "<table border=\"1\" class=\"dataframe\">\n",
       "  <thead>\n",
       "    <tr style=\"text-align: right;\">\n",
       "      <th></th>\n",
       "      <th>Id</th>\n",
       "      <th>StepTotal</th>\n",
       "      <th>Calories</th>\n",
       "      <th>WeekDay</th>\n",
       "      <th>DateHour</th>\n",
       "      <th>ActivityDay</th>\n",
       "      <th>TotalSleepRecords</th>\n",
       "      <th>TotalMinutesAsleep</th>\n",
       "      <th>TotalTimeInBed</th>\n",
       "    </tr>\n",
       "  </thead>\n",
       "  <tbody>\n",
       "    <tr>\n",
       "      <th>0</th>\n",
       "      <td>1503960366</td>\n",
       "      <td>373</td>\n",
       "      <td>81</td>\n",
       "      <td>Tuesday</td>\n",
       "      <td>0</td>\n",
       "      <td>2016-04-12</td>\n",
       "      <td>1</td>\n",
       "      <td>327</td>\n",
       "      <td>346</td>\n",
       "    </tr>\n",
       "    <tr>\n",
       "      <th>1</th>\n",
       "      <td>1503960366</td>\n",
       "      <td>160</td>\n",
       "      <td>61</td>\n",
       "      <td>Tuesday</td>\n",
       "      <td>1</td>\n",
       "      <td>2016-04-12</td>\n",
       "      <td>1</td>\n",
       "      <td>327</td>\n",
       "      <td>346</td>\n",
       "    </tr>\n",
       "    <tr>\n",
       "      <th>2</th>\n",
       "      <td>1503960366</td>\n",
       "      <td>151</td>\n",
       "      <td>59</td>\n",
       "      <td>Tuesday</td>\n",
       "      <td>2</td>\n",
       "      <td>2016-04-12</td>\n",
       "      <td>1</td>\n",
       "      <td>327</td>\n",
       "      <td>346</td>\n",
       "    </tr>\n",
       "    <tr>\n",
       "      <th>3</th>\n",
       "      <td>1503960366</td>\n",
       "      <td>0</td>\n",
       "      <td>47</td>\n",
       "      <td>Tuesday</td>\n",
       "      <td>3</td>\n",
       "      <td>2016-04-12</td>\n",
       "      <td>1</td>\n",
       "      <td>327</td>\n",
       "      <td>346</td>\n",
       "    </tr>\n",
       "    <tr>\n",
       "      <th>4</th>\n",
       "      <td>1503960366</td>\n",
       "      <td>0</td>\n",
       "      <td>48</td>\n",
       "      <td>Tuesday</td>\n",
       "      <td>4</td>\n",
       "      <td>2016-04-12</td>\n",
       "      <td>1</td>\n",
       "      <td>327</td>\n",
       "      <td>346</td>\n",
       "    </tr>\n",
       "  </tbody>\n",
       "</table>\n",
       "</div>"
      ],
      "text/plain": [
       "           Id  StepTotal  ...  TotalMinutesAsleep TotalTimeInBed\n",
       "0  1503960366        373  ...                 327            346\n",
       "1  1503960366        160  ...                 327            346\n",
       "2  1503960366        151  ...                 327            346\n",
       "3  1503960366          0  ...                 327            346\n",
       "4  1503960366          0  ...                 327            346\n",
       "\n",
       "[5 rows x 9 columns]"
      ]
     },
     "execution_count": 202,
     "metadata": {},
     "output_type": "execute_result"
    }
   ],
   "source": [
    "merge_df2 = pd.merge(merge_df, sleepday,\n",
    "                    on=['Id', 'ActivityDay', 'WeekDay'], how='inner')\n",
    "\n",
    "merge_df2.head(5)"
   ]
  },
  {
   "cell_type": "code",
   "execution_count": 247,
   "id": "677603f0-6870-47f7-8714-c40ec2a0b944",
   "metadata": {},
   "outputs": [
    {
     "name": "stdout",
     "output_type": "stream",
     "text": [
      "Merge_df2 Dataframe has 24 unique users\n",
      "Merge_df2 DataFrame has 0 missing values\n"
     ]
    }
   ],
   "source": [
    "# Let's see how many unique users and missing values we have in our new dataframe\n",
    "print(\"Merge_df2 Dataframe has\",merge_df2.Id.nunique(), \"unique users\")\n",
    "print(\"Merge_df2 DataFrame has\",merge_df2.isnull().values.sum(), \"missing values\")"
   ]
  },
  {
   "cell_type": "markdown",
   "id": "534f6484-c266-443f-a3e4-1d3b0159eee1",
   "metadata": {},
   "source": [
    "**Making some changes to the `daily_activity` dataframe. We'll start by creating 2 additional columns (`TotalActiveMinutes`, `TotalMinutes`, and `TotalActiveHours`). Then we'll remove some columns we won't need.**"
   ]
  },
  {
   "cell_type": "code",
   "execution_count": 248,
   "id": "fb2f315d-ec14-479d-b9a3-e1a0360a420f",
   "metadata": {},
   "outputs": [],
   "source": [
    "new_cols = [\"Id\", \"ActivityDate\", \n",
    "            \"WeekDay\", \"TotalSteps\", \n",
    "            \"TotalDistance\", \"VeryActiveDistance\", \n",
    "            \"ModeratelyActiveDistance\", \"LightActiveDistance\", \n",
    "            \"SedentaryActiveDistance\", \"VeryActiveMinutes\", \n",
    "            \"FairlyActiveMinutes\", \"LightlyActiveMinutes\", \n",
    "            \"SedentaryMinutes\", \"TotalActiveMinutes\", \n",
    "            \"TotalMinutes\", \"TotalActiveHours\", \"Calories\"]\n",
    "\n",
    "daily_activity = daily_activity.reindex(columns=new_cols)"
   ]
  },
  {
   "cell_type": "code",
   "execution_count": 205,
   "id": "e7840c3e-c333-4038-8a29-6a9caf4cf91a",
   "metadata": {},
   "outputs": [
    {
     "data": {
      "text/html": [
       "<div>\n",
       "<style scoped>\n",
       "    .dataframe tbody tr th:only-of-type {\n",
       "        vertical-align: middle;\n",
       "    }\n",
       "\n",
       "    .dataframe tbody tr th {\n",
       "        vertical-align: top;\n",
       "    }\n",
       "\n",
       "    .dataframe thead th {\n",
       "        text-align: right;\n",
       "    }\n",
       "</style>\n",
       "<table border=\"1\" class=\"dataframe\">\n",
       "  <thead>\n",
       "    <tr style=\"text-align: right;\">\n",
       "      <th></th>\n",
       "      <th>TotalActiveMinutes</th>\n",
       "      <th>TotalMinutes</th>\n",
       "      <th>TotalActiveHours</th>\n",
       "    </tr>\n",
       "  </thead>\n",
       "  <tbody>\n",
       "    <tr>\n",
       "      <th>0</th>\n",
       "      <td>NaN</td>\n",
       "      <td>NaN</td>\n",
       "      <td>NaN</td>\n",
       "    </tr>\n",
       "    <tr>\n",
       "      <th>1</th>\n",
       "      <td>NaN</td>\n",
       "      <td>NaN</td>\n",
       "      <td>NaN</td>\n",
       "    </tr>\n",
       "    <tr>\n",
       "      <th>2</th>\n",
       "      <td>NaN</td>\n",
       "      <td>NaN</td>\n",
       "      <td>NaN</td>\n",
       "    </tr>\n",
       "    <tr>\n",
       "      <th>3</th>\n",
       "      <td>NaN</td>\n",
       "      <td>NaN</td>\n",
       "      <td>NaN</td>\n",
       "    </tr>\n",
       "    <tr>\n",
       "      <th>4</th>\n",
       "      <td>NaN</td>\n",
       "      <td>NaN</td>\n",
       "      <td>NaN</td>\n",
       "    </tr>\n",
       "  </tbody>\n",
       "</table>\n",
       "</div>"
      ],
      "text/plain": [
       "   TotalActiveMinutes  TotalMinutes  TotalActiveHours\n",
       "0                 NaN           NaN               NaN\n",
       "1                 NaN           NaN               NaN\n",
       "2                 NaN           NaN               NaN\n",
       "3                 NaN           NaN               NaN\n",
       "4                 NaN           NaN               NaN"
      ]
     },
     "execution_count": 205,
     "metadata": {},
     "output_type": "execute_result"
    }
   ],
   "source": [
    "daily_activity[[\"TotalActiveMinutes\",\n",
    "                \"TotalMinutes\", \"TotalActiveHours\"]].head()"
   ]
  },
  {
   "cell_type": "markdown",
   "id": "2c0134b0-9c75-4681-ad23-fe58b7a2f600",
   "metadata": {},
   "source": [
    "**The `TotalActiveMinutes` and `TotalMinutes` columns have been created, but they currently don't have any values since they have not been created.**\n",
    "\n",
    "**For the **`TotalActiveMinutes`**, I will create the values by summing up all the active minutes i.e `VeryActiveMinutes`, `FairlyActiveMinutes`, and `LightActiveMinutes` and for the **`TotalMinutes`**, I will sum up the `TotalActiveMinutes` and the `SedentaryMinutes`.**"
   ]
  },
  {
   "cell_type": "code",
   "execution_count": 206,
   "id": "64b1e0b4-844e-416c-a6c6-a94c5427b637",
   "metadata": {},
   "outputs": [],
   "source": [
    "daily_activity[\"TotalActiveMinutes\"] = daily_activity[\"VeryActiveMinutes\"] + daily_activity[\"FairlyActiveMinutes\"] + daily_activity[\"LightlyActiveMinutes\"]\n",
    "daily_activity[\"TotalMinutes\"] = daily_activity[\"TotalActiveMinutes\"] + daily_activity[\"SedentaryMinutes\"]\n",
    "daily_activity[\"TotalActiveHours\"] = round(daily_activity[\"TotalActiveMinutes\"] / 60)"
   ]
  },
  {
   "cell_type": "code",
   "execution_count": 207,
   "id": "e0c0ff1d-348b-4d12-be8d-74d2c202a3a2",
   "metadata": {},
   "outputs": [
    {
     "data": {
      "text/html": [
       "<div>\n",
       "<style scoped>\n",
       "    .dataframe tbody tr th:only-of-type {\n",
       "        vertical-align: middle;\n",
       "    }\n",
       "\n",
       "    .dataframe tbody tr th {\n",
       "        vertical-align: top;\n",
       "    }\n",
       "\n",
       "    .dataframe thead th {\n",
       "        text-align: right;\n",
       "    }\n",
       "</style>\n",
       "<table border=\"1\" class=\"dataframe\">\n",
       "  <thead>\n",
       "    <tr style=\"text-align: right;\">\n",
       "      <th></th>\n",
       "      <th>TotalActiveMinutes</th>\n",
       "      <th>TotalMinutes</th>\n",
       "      <th>TotalActiveHours</th>\n",
       "    </tr>\n",
       "  </thead>\n",
       "  <tbody>\n",
       "    <tr>\n",
       "      <th>0</th>\n",
       "      <td>366</td>\n",
       "      <td>1094</td>\n",
       "      <td>6.0</td>\n",
       "    </tr>\n",
       "    <tr>\n",
       "      <th>1</th>\n",
       "      <td>257</td>\n",
       "      <td>1033</td>\n",
       "      <td>4.0</td>\n",
       "    </tr>\n",
       "    <tr>\n",
       "      <th>2</th>\n",
       "      <td>222</td>\n",
       "      <td>1440</td>\n",
       "      <td>4.0</td>\n",
       "    </tr>\n",
       "    <tr>\n",
       "      <th>3</th>\n",
       "      <td>272</td>\n",
       "      <td>998</td>\n",
       "      <td>5.0</td>\n",
       "    </tr>\n",
       "    <tr>\n",
       "      <th>4</th>\n",
       "      <td>267</td>\n",
       "      <td>1040</td>\n",
       "      <td>4.0</td>\n",
       "    </tr>\n",
       "  </tbody>\n",
       "</table>\n",
       "</div>"
      ],
      "text/plain": [
       "   TotalActiveMinutes  TotalMinutes  TotalActiveHours\n",
       "0                 366          1094               6.0\n",
       "1                 257          1033               4.0\n",
       "2                 222          1440               4.0\n",
       "3                 272           998               5.0\n",
       "4                 267          1040               4.0"
      ]
     },
     "execution_count": 207,
     "metadata": {},
     "output_type": "execute_result"
    }
   ],
   "source": [
    "daily_activity[[\"TotalActiveMinutes\", \"TotalMinutes\", \"TotalActiveHours\"]].head()"
   ]
  },
  {
   "cell_type": "markdown",
   "id": "a42291cf-2038-4b00-82c9-e24d4b54d531",
   "metadata": {},
   "source": [
    "## 7. Analyzing the data\n",
    "**Our data is processing is complete, and now it's time to analyze it for insights. We have narrowed down our datasets to 3 dataframes**:\n",
    "- `daily_activity`\n",
    "- `merge_df`\n",
    "- `merge_df2`\n",
    "\n",
    "**We're going to draw the insights from these dataframes.\n",
    "Let's get statistical info from them.**"
   ]
  },
  {
   "cell_type": "code",
   "execution_count": 208,
   "id": "078498c3-5710-4b66-b211-b66bcaef9ab1",
   "metadata": {},
   "outputs": [
    {
     "data": {
      "text/html": [
       "<div>\n",
       "<style scoped>\n",
       "    .dataframe tbody tr th:only-of-type {\n",
       "        vertical-align: middle;\n",
       "    }\n",
       "\n",
       "    .dataframe tbody tr th {\n",
       "        vertical-align: top;\n",
       "    }\n",
       "\n",
       "    .dataframe thead th {\n",
       "        text-align: right;\n",
       "    }\n",
       "</style>\n",
       "<table border=\"1\" class=\"dataframe\">\n",
       "  <thead>\n",
       "    <tr style=\"text-align: right;\">\n",
       "      <th></th>\n",
       "      <th>Id</th>\n",
       "      <th>ActivityDate</th>\n",
       "      <th>TotalSteps</th>\n",
       "      <th>TotalDistance</th>\n",
       "      <th>VeryActiveDistance</th>\n",
       "      <th>ModeratelyActiveDistance</th>\n",
       "      <th>LightActiveDistance</th>\n",
       "      <th>SedentaryActiveDistance</th>\n",
       "      <th>VeryActiveMinutes</th>\n",
       "      <th>FairlyActiveMinutes</th>\n",
       "      <th>LightlyActiveMinutes</th>\n",
       "      <th>SedentaryMinutes</th>\n",
       "      <th>TotalActiveMinutes</th>\n",
       "      <th>TotalMinutes</th>\n",
       "      <th>TotalActiveHours</th>\n",
       "      <th>Calories</th>\n",
       "    </tr>\n",
       "  </thead>\n",
       "  <tbody>\n",
       "    <tr>\n",
       "      <th>count</th>\n",
       "      <td>9.400000e+02</td>\n",
       "      <td>940</td>\n",
       "      <td>940.000000</td>\n",
       "      <td>940.000000</td>\n",
       "      <td>940.000000</td>\n",
       "      <td>940.000000</td>\n",
       "      <td>940.000000</td>\n",
       "      <td>940.000000</td>\n",
       "      <td>940.000000</td>\n",
       "      <td>940.000000</td>\n",
       "      <td>940.000000</td>\n",
       "      <td>940.000000</td>\n",
       "      <td>940.000000</td>\n",
       "      <td>940.000000</td>\n",
       "      <td>940.000000</td>\n",
       "      <td>940.000000</td>\n",
       "    </tr>\n",
       "    <tr>\n",
       "      <th>mean</th>\n",
       "      <td>4.855407e+09</td>\n",
       "      <td>2016-04-26 06:53:37.021276672</td>\n",
       "      <td>7637.910638</td>\n",
       "      <td>5.489702</td>\n",
       "      <td>1.502681</td>\n",
       "      <td>0.567543</td>\n",
       "      <td>3.340819</td>\n",
       "      <td>0.001606</td>\n",
       "      <td>21.164894</td>\n",
       "      <td>13.564894</td>\n",
       "      <td>192.812766</td>\n",
       "      <td>991.210638</td>\n",
       "      <td>227.542553</td>\n",
       "      <td>1218.753191</td>\n",
       "      <td>3.775532</td>\n",
       "      <td>2303.609574</td>\n",
       "    </tr>\n",
       "    <tr>\n",
       "      <th>min</th>\n",
       "      <td>1.503960e+09</td>\n",
       "      <td>2016-04-12 00:00:00</td>\n",
       "      <td>0.000000</td>\n",
       "      <td>0.000000</td>\n",
       "      <td>0.000000</td>\n",
       "      <td>0.000000</td>\n",
       "      <td>0.000000</td>\n",
       "      <td>0.000000</td>\n",
       "      <td>0.000000</td>\n",
       "      <td>0.000000</td>\n",
       "      <td>0.000000</td>\n",
       "      <td>0.000000</td>\n",
       "      <td>0.000000</td>\n",
       "      <td>2.000000</td>\n",
       "      <td>0.000000</td>\n",
       "      <td>0.000000</td>\n",
       "    </tr>\n",
       "    <tr>\n",
       "      <th>25%</th>\n",
       "      <td>2.320127e+09</td>\n",
       "      <td>2016-04-19 00:00:00</td>\n",
       "      <td>3789.750000</td>\n",
       "      <td>2.620000</td>\n",
       "      <td>0.000000</td>\n",
       "      <td>0.000000</td>\n",
       "      <td>1.945000</td>\n",
       "      <td>0.000000</td>\n",
       "      <td>0.000000</td>\n",
       "      <td>0.000000</td>\n",
       "      <td>127.000000</td>\n",
       "      <td>729.750000</td>\n",
       "      <td>146.750000</td>\n",
       "      <td>989.750000</td>\n",
       "      <td>2.000000</td>\n",
       "      <td>1828.500000</td>\n",
       "    </tr>\n",
       "    <tr>\n",
       "      <th>50%</th>\n",
       "      <td>4.445115e+09</td>\n",
       "      <td>2016-04-26 00:00:00</td>\n",
       "      <td>7405.500000</td>\n",
       "      <td>5.245000</td>\n",
       "      <td>0.210000</td>\n",
       "      <td>0.240000</td>\n",
       "      <td>3.365000</td>\n",
       "      <td>0.000000</td>\n",
       "      <td>4.000000</td>\n",
       "      <td>6.000000</td>\n",
       "      <td>199.000000</td>\n",
       "      <td>1057.500000</td>\n",
       "      <td>247.000000</td>\n",
       "      <td>1440.000000</td>\n",
       "      <td>4.000000</td>\n",
       "      <td>2134.000000</td>\n",
       "    </tr>\n",
       "    <tr>\n",
       "      <th>75%</th>\n",
       "      <td>6.962181e+09</td>\n",
       "      <td>2016-05-04 00:00:00</td>\n",
       "      <td>10727.000000</td>\n",
       "      <td>7.712500</td>\n",
       "      <td>2.052500</td>\n",
       "      <td>0.800000</td>\n",
       "      <td>4.782500</td>\n",
       "      <td>0.000000</td>\n",
       "      <td>32.000000</td>\n",
       "      <td>19.000000</td>\n",
       "      <td>264.000000</td>\n",
       "      <td>1229.500000</td>\n",
       "      <td>317.250000</td>\n",
       "      <td>1440.000000</td>\n",
       "      <td>5.000000</td>\n",
       "      <td>2793.250000</td>\n",
       "    </tr>\n",
       "    <tr>\n",
       "      <th>max</th>\n",
       "      <td>8.877689e+09</td>\n",
       "      <td>2016-05-12 00:00:00</td>\n",
       "      <td>36019.000000</td>\n",
       "      <td>28.030001</td>\n",
       "      <td>21.920000</td>\n",
       "      <td>6.480000</td>\n",
       "      <td>10.710000</td>\n",
       "      <td>0.110000</td>\n",
       "      <td>210.000000</td>\n",
       "      <td>143.000000</td>\n",
       "      <td>518.000000</td>\n",
       "      <td>1440.000000</td>\n",
       "      <td>552.000000</td>\n",
       "      <td>1440.000000</td>\n",
       "      <td>9.000000</td>\n",
       "      <td>4900.000000</td>\n",
       "    </tr>\n",
       "    <tr>\n",
       "      <th>std</th>\n",
       "      <td>2.424805e+09</td>\n",
       "      <td>NaN</td>\n",
       "      <td>5087.150742</td>\n",
       "      <td>3.924606</td>\n",
       "      <td>2.658941</td>\n",
       "      <td>0.883580</td>\n",
       "      <td>2.040655</td>\n",
       "      <td>0.007346</td>\n",
       "      <td>32.844803</td>\n",
       "      <td>19.987404</td>\n",
       "      <td>109.174700</td>\n",
       "      <td>301.267437</td>\n",
       "      <td>121.776307</td>\n",
       "      <td>265.931767</td>\n",
       "      <td>2.057646</td>\n",
       "      <td>718.166862</td>\n",
       "    </tr>\n",
       "  </tbody>\n",
       "</table>\n",
       "</div>"
      ],
      "text/plain": [
       "                 Id  ...     Calories\n",
       "count  9.400000e+02  ...   940.000000\n",
       "mean   4.855407e+09  ...  2303.609574\n",
       "min    1.503960e+09  ...     0.000000\n",
       "25%    2.320127e+09  ...  1828.500000\n",
       "50%    4.445115e+09  ...  2134.000000\n",
       "75%    6.962181e+09  ...  2793.250000\n",
       "max    8.877689e+09  ...  4900.000000\n",
       "std    2.424805e+09  ...   718.166862\n",
       "\n",
       "[8 rows x 16 columns]"
      ]
     },
     "execution_count": 208,
     "metadata": {},
     "output_type": "execute_result"
    }
   ],
   "source": [
    "daily_activity.describe()"
   ]
  },
  {
   "cell_type": "code",
   "execution_count": 209,
   "id": "176ca961-ca41-4cad-b10c-5891c308debf",
   "metadata": {},
   "outputs": [
    {
     "data": {
      "text/html": [
       "<div>\n",
       "<style scoped>\n",
       "    .dataframe tbody tr th:only-of-type {\n",
       "        vertical-align: middle;\n",
       "    }\n",
       "\n",
       "    .dataframe tbody tr th {\n",
       "        vertical-align: top;\n",
       "    }\n",
       "\n",
       "    .dataframe thead th {\n",
       "        text-align: right;\n",
       "    }\n",
       "</style>\n",
       "<table border=\"1\" class=\"dataframe\">\n",
       "  <thead>\n",
       "    <tr style=\"text-align: right;\">\n",
       "      <th></th>\n",
       "      <th>Id</th>\n",
       "      <th>StepTotal</th>\n",
       "      <th>Calories</th>\n",
       "      <th>DateHour</th>\n",
       "      <th>ActivityDay</th>\n",
       "    </tr>\n",
       "  </thead>\n",
       "  <tbody>\n",
       "    <tr>\n",
       "      <th>count</th>\n",
       "      <td>2.209900e+04</td>\n",
       "      <td>22099.000000</td>\n",
       "      <td>22099.000000</td>\n",
       "      <td>22099.000000</td>\n",
       "      <td>22099</td>\n",
       "    </tr>\n",
       "    <tr>\n",
       "      <th>mean</th>\n",
       "      <td>4.848235e+09</td>\n",
       "      <td>320.166342</td>\n",
       "      <td>97.386760</td>\n",
       "      <td>11.415765</td>\n",
       "      <td>2016-04-26 00:21:45.832843264</td>\n",
       "    </tr>\n",
       "    <tr>\n",
       "      <th>min</th>\n",
       "      <td>1.503960e+09</td>\n",
       "      <td>0.000000</td>\n",
       "      <td>42.000000</td>\n",
       "      <td>0.000000</td>\n",
       "      <td>2016-04-12 00:00:00</td>\n",
       "    </tr>\n",
       "    <tr>\n",
       "      <th>25%</th>\n",
       "      <td>2.320127e+09</td>\n",
       "      <td>0.000000</td>\n",
       "      <td>63.000000</td>\n",
       "      <td>5.000000</td>\n",
       "      <td>2016-04-19 00:00:00</td>\n",
       "    </tr>\n",
       "    <tr>\n",
       "      <th>50%</th>\n",
       "      <td>4.445115e+09</td>\n",
       "      <td>40.000000</td>\n",
       "      <td>83.000000</td>\n",
       "      <td>11.000000</td>\n",
       "      <td>2016-04-26 00:00:00</td>\n",
       "    </tr>\n",
       "    <tr>\n",
       "      <th>75%</th>\n",
       "      <td>6.962181e+09</td>\n",
       "      <td>357.000000</td>\n",
       "      <td>108.000000</td>\n",
       "      <td>17.000000</td>\n",
       "      <td>2016-05-03 00:00:00</td>\n",
       "    </tr>\n",
       "    <tr>\n",
       "      <th>max</th>\n",
       "      <td>8.877689e+09</td>\n",
       "      <td>10554.000000</td>\n",
       "      <td>948.000000</td>\n",
       "      <td>23.000000</td>\n",
       "      <td>2016-05-12 00:00:00</td>\n",
       "    </tr>\n",
       "    <tr>\n",
       "      <th>std</th>\n",
       "      <td>2.422500e+09</td>\n",
       "      <td>690.384228</td>\n",
       "      <td>60.702622</td>\n",
       "      <td>6.915140</td>\n",
       "      <td>NaN</td>\n",
       "    </tr>\n",
       "  </tbody>\n",
       "</table>\n",
       "</div>"
      ],
      "text/plain": [
       "                 Id     StepTotal  ...      DateHour                    ActivityDay\n",
       "count  2.209900e+04  22099.000000  ...  22099.000000                          22099\n",
       "mean   4.848235e+09    320.166342  ...     11.415765  2016-04-26 00:21:45.832843264\n",
       "min    1.503960e+09      0.000000  ...      0.000000            2016-04-12 00:00:00\n",
       "25%    2.320127e+09      0.000000  ...      5.000000            2016-04-19 00:00:00\n",
       "50%    4.445115e+09     40.000000  ...     11.000000            2016-04-26 00:00:00\n",
       "75%    6.962181e+09    357.000000  ...     17.000000            2016-05-03 00:00:00\n",
       "max    8.877689e+09  10554.000000  ...     23.000000            2016-05-12 00:00:00\n",
       "std    2.422500e+09    690.384228  ...      6.915140                            NaN\n",
       "\n",
       "[8 rows x 5 columns]"
      ]
     },
     "execution_count": 209,
     "metadata": {},
     "output_type": "execute_result"
    }
   ],
   "source": [
    "merge_df.describe()"
   ]
  },
  {
   "cell_type": "code",
   "execution_count": 210,
   "id": "6c4a76b0-8792-4634-9a38-2f7224e86c1c",
   "metadata": {},
   "outputs": [
    {
     "data": {
      "text/html": [
       "<div>\n",
       "<style scoped>\n",
       "    .dataframe tbody tr th:only-of-type {\n",
       "        vertical-align: middle;\n",
       "    }\n",
       "\n",
       "    .dataframe tbody tr th {\n",
       "        vertical-align: top;\n",
       "    }\n",
       "\n",
       "    .dataframe thead th {\n",
       "        text-align: right;\n",
       "    }\n",
       "</style>\n",
       "<table border=\"1\" class=\"dataframe\">\n",
       "  <thead>\n",
       "    <tr style=\"text-align: right;\">\n",
       "      <th></th>\n",
       "      <th>Id</th>\n",
       "      <th>StepTotal</th>\n",
       "      <th>Calories</th>\n",
       "      <th>DateHour</th>\n",
       "      <th>ActivityDay</th>\n",
       "      <th>TotalSleepRecords</th>\n",
       "      <th>TotalMinutesAsleep</th>\n",
       "      <th>TotalTimeInBed</th>\n",
       "    </tr>\n",
       "  </thead>\n",
       "  <tbody>\n",
       "    <tr>\n",
       "      <th>count</th>\n",
       "      <td>9.771000e+03</td>\n",
       "      <td>9771.000000</td>\n",
       "      <td>9771.000000</td>\n",
       "      <td>9771.000000</td>\n",
       "      <td>9771</td>\n",
       "      <td>9771.000000</td>\n",
       "      <td>9771.000000</td>\n",
       "      <td>9771.000000</td>\n",
       "    </tr>\n",
       "    <tr>\n",
       "      <th>mean</th>\n",
       "      <td>5.000942e+09</td>\n",
       "      <td>358.765838</td>\n",
       "      <td>100.978917</td>\n",
       "      <td>11.422884</td>\n",
       "      <td>2016-04-26 08:00:35.369972480</td>\n",
       "      <td>1.120356</td>\n",
       "      <td>419.350322</td>\n",
       "      <td>458.607921</td>\n",
       "    </tr>\n",
       "    <tr>\n",
       "      <th>min</th>\n",
       "      <td>1.503960e+09</td>\n",
       "      <td>0.000000</td>\n",
       "      <td>42.000000</td>\n",
       "      <td>0.000000</td>\n",
       "      <td>2016-04-12 00:00:00</td>\n",
       "      <td>1.000000</td>\n",
       "      <td>58.000000</td>\n",
       "      <td>61.000000</td>\n",
       "    </tr>\n",
       "    <tr>\n",
       "      <th>25%</th>\n",
       "      <td>3.977334e+09</td>\n",
       "      <td>0.000000</td>\n",
       "      <td>63.000000</td>\n",
       "      <td>5.000000</td>\n",
       "      <td>2016-04-19 00:00:00</td>\n",
       "      <td>1.000000</td>\n",
       "      <td>361.000000</td>\n",
       "      <td>402.000000</td>\n",
       "    </tr>\n",
       "    <tr>\n",
       "      <th>50%</th>\n",
       "      <td>4.702922e+09</td>\n",
       "      <td>107.000000</td>\n",
       "      <td>84.000000</td>\n",
       "      <td>11.000000</td>\n",
       "      <td>2016-04-26 00:00:00</td>\n",
       "      <td>1.000000</td>\n",
       "      <td>433.000000</td>\n",
       "      <td>463.000000</td>\n",
       "    </tr>\n",
       "    <tr>\n",
       "      <th>75%</th>\n",
       "      <td>6.962181e+09</td>\n",
       "      <td>420.000000</td>\n",
       "      <td>117.000000</td>\n",
       "      <td>17.000000</td>\n",
       "      <td>2016-05-04 00:00:00</td>\n",
       "      <td>1.000000</td>\n",
       "      <td>490.000000</td>\n",
       "      <td>527.000000</td>\n",
       "    </tr>\n",
       "    <tr>\n",
       "      <th>max</th>\n",
       "      <td>8.792010e+09</td>\n",
       "      <td>6357.000000</td>\n",
       "      <td>669.000000</td>\n",
       "      <td>23.000000</td>\n",
       "      <td>2016-05-12 00:00:00</td>\n",
       "      <td>3.000000</td>\n",
       "      <td>796.000000</td>\n",
       "      <td>961.000000</td>\n",
       "    </tr>\n",
       "    <tr>\n",
       "      <th>std</th>\n",
       "      <td>2.061194e+09</td>\n",
       "      <td>652.628865</td>\n",
       "      <td>63.440338</td>\n",
       "      <td>6.921320</td>\n",
       "      <td>NaN</td>\n",
       "      <td>0.347304</td>\n",
       "      <td>118.789342</td>\n",
       "      <td>127.597596</td>\n",
       "    </tr>\n",
       "  </tbody>\n",
       "</table>\n",
       "</div>"
      ],
      "text/plain": [
       "                 Id    StepTotal  ...  TotalMinutesAsleep  TotalTimeInBed\n",
       "count  9.771000e+03  9771.000000  ...         9771.000000     9771.000000\n",
       "mean   5.000942e+09   358.765838  ...          419.350322      458.607921\n",
       "min    1.503960e+09     0.000000  ...           58.000000       61.000000\n",
       "25%    3.977334e+09     0.000000  ...          361.000000      402.000000\n",
       "50%    4.702922e+09   107.000000  ...          433.000000      463.000000\n",
       "75%    6.962181e+09   420.000000  ...          490.000000      527.000000\n",
       "max    8.792010e+09  6357.000000  ...          796.000000      961.000000\n",
       "std    2.061194e+09   652.628865  ...          118.789342      127.597596\n",
       "\n",
       "[8 rows x 8 columns]"
      ]
     },
     "execution_count": 210,
     "metadata": {},
     "output_type": "execute_result"
    }
   ],
   "source": [
    "merge_df2.describe()"
   ]
  },
  {
   "cell_type": "markdown",
   "id": "72c6b0c1-0a0a-4586-8323-13b829f7a29c",
   "metadata": {},
   "source": [
    "### Key  findings:\n",
    "- Out of 1218 Total minutes, 991 minutes were spent inactive (Sedentary). Approximately 228 active minutes were spent.\n",
    "- An average of 7638 total steps were taken by the users daily.\n",
    "- There is also an average of 2304 calories burnt daily.\n",
    "- Also, there is a positive correlation between steps taken and calories burnt."
   ]
  },
  {
   "cell_type": "markdown",
   "id": "3faf7d9e-499a-453b-944e-3a1228306894",
   "metadata": {},
   "source": [
    "## 8. Visualizing the data"
   ]
  },
  {
   "cell_type": "markdown",
   "id": "38195cb8-1887-44fc-a8b8-e2b400873700",
   "metadata": {},
   "source": [
    "#### Creating a Correlation heatmap to show the positive and negative correlation among the columns."
   ]
  },
  {
   "cell_type": "code",
   "execution_count": 224,
   "id": "298cf3e6-7b23-4cb1-b3f4-bc4b02b4ebd0",
   "metadata": {},
   "outputs": [
    {
     "data": {
      "image/png": "[encoded data removed]",
      "text/plain": [
       "<Figure size 1080x576 with 2 Axes>"
      ]
     },
     "metadata": {},
     "output_type": "display_data"
    }
   ],
   "source": [
    "Corr1 = [\"TotalDistance\", \"TotalSteps\", \n",
    "         \"SedentaryMinutes\", \"TotalActiveMinutes\", \"Calories\"]\n",
    "\n",
    "fig, ax = plt.subplots(figsize=(15, 8))\n",
    "ax = sns.heatmap(daily_activity[Corr1].corr(), \n",
    "            annot = True, \n",
    "            fmt = \".2f\",\n",
    "            linewidths=0.5,\n",
    "           cmap=\"icefire\")\n",
    "\n",
    "ax.set_title('Correlation Matrix');"
   ]
  },
  {
   "cell_type": "markdown",
   "id": "65c0c49d-4f81-4640-86c6-75246c03fbca",
   "metadata": {},
   "source": [
    "### KEY FINDINGS:\n",
    "- There is a positive correlation between `Calories` and `TotalActiveMinutes`, `TotalSteps`, and `TotalDistance`.\n",
    "- There is a negative correlation between `Calories` and `SedentaryMinutes`."
   ]
  },
  {
   "cell_type": "markdown",
   "id": "27b0a8e0-6b3b-42c2-a6c7-d882e0cc5da4",
   "metadata": {},
   "source": [
    "### Comparing Total Steps and Sedantary Minutes to Calories."
   ]
  },
  {
   "cell_type": "code",
   "execution_count": 85,
   "id": "db169b89-caa9-462b-a014-04b93c0fc98e",
   "metadata": {},
   "outputs": [
    {
     "data": {
      "image/png": "[encoded data removed]",
      "text/plain": [
       "<Figure size 1000x1000 with 2 Axes>"
      ]
     },
     "metadata": {},
     "output_type": "display_data"
    }
   ],
   "source": [
    "fig, (ax0, ax1) = plt.subplots(nrows=2,\n",
    "                             ncols=1,\n",
    "                             figsize=(10, 10),\n",
    "                               sharex=True)\n",
    "\n",
    "scatter = ax0.scatter(x=daily_activity[\"Calories\"],\n",
    "                     y=daily_activity[\"TotalSteps\"],\n",
    "                     color=\"lightgreen\")\n",
    "ax0.set(title=\"Calories Burnt By Total Steps\",\n",
    "       ylabel=\"Total Steps\")\n",
    "\n",
    "ax0.legend(*scatter.legend_elements(), title=None)\n",
    "\n",
    "scatter = ax1.scatter(x=daily_activity[\"Calories\"],\n",
    "                     y=daily_activity[\"SedentaryMinutes\"],\n",
    "                     color=\"skyblue\")\n",
    "ax1.set(title=\"Sedentary Minutes and Calories\",\n",
    "       ylabel=\"Sedentary Minutes\")\n",
    "\n",
    "ax1.legend(*scatter.legend_elements(), title=None);"
   ]
  },
  {
   "cell_type": "markdown",
   "id": "8d205c01-151e-41b7-91fe-603a9267061b",
   "metadata": {},
   "source": [
    "### KEY FINDINGS:\n",
    "- This scatterplot gives us a clearer view of the correlation between `TotalSteps` and `SedentaryMinutes` to `Calories`.\n",
    "- The more the steps taken, the more the calories burnt.\n",
    "- On the other hand, the more the Sedentary minutes, the less the calories burnt."
   ]
  },
  {
   "cell_type": "markdown",
   "id": "ea62df5b-f3e9-46f0-b816-fee1e97aadfa",
   "metadata": {},
   "source": [
    "### Showing amount of calories burnt for every steps taken in a scatter plot shown below."
   ]
  },
  {
   "cell_type": "code",
   "execution_count": 91,
   "id": "d1874c6b-5ef2-43a8-95a1-d7fa64c17b08",
   "metadata": {},
   "outputs": [
    {
     "data": {
      "image/png": "[encoded data removed]",
      "text/plain": [
       "<Figure size 800x600 with 2 Axes>"
      ]
     },
     "metadata": {},
     "output_type": "display_data"
    }
   ],
   "source": [
    "plt.style.use(\"default\")\n",
    "plt.figure(figsize=(8,6)) # specify size of the chart\n",
    "plt.scatter(daily_activity[\"TotalSteps\"],daily_activity[\"Calories\"], \n",
    "            alpha = 0.8, c = daily_activity[\"Calories\"], \n",
    "            cmap = \"Spectral\")\n",
    "\n",
    "# add annotations and visuals\n",
    "median_calories = 2134\n",
    "median_steps = 7405\n",
    "\n",
    "plt.colorbar(orientation = \"vertical\")\n",
    "plt.axvline(median_steps, color = \"Blue\", label = \"Median steps\")\n",
    "plt.axhline(median_calories, color = \"Red\", label = \"Median calories burned\")\n",
    "plt.xlabel(\"Steps taken\")\n",
    "plt.ylabel(\"Calories burned\")\n",
    "plt.title(\"Calories burned for every step taken\")\n",
    "plt.grid(True)\n",
    "plt.legend()\n",
    "plt.show()"
   ]
  },
  {
   "cell_type": "markdown",
   "id": "eb5fd380-c89c-4638-b6f9-2f95b07267a4",
   "metadata": {},
   "source": [
    "### KEY FINDINGS:\n",
    "From the scatter plot, we infer that:\n",
    "1. It is a positive correlation.\n",
    "2. Observed that intensity of calories burned increase when users are at the range of >0 to 15,000 steps with calories burn rate cooling down from 15,000 steps onwards.\n",
    "3. Noted a few outliers:\n",
    "- 0 steps with 0 to minimal calories burned.\n",
    "- 1 observation of >35,000 steps with <3,000 calories burned.\n",
    "- Deduced that outliers could be due to natural variation of data, change in user's usage or errors in data collection (ie. miscalculations or human error)."
   ]
  },
  {
   "cell_type": "markdown",
   "id": "2b1789a5-9ab6-4f79-8134-530b0595beeb",
   "metadata": {},
   "source": [
    "### Relation between Sedantary Minutes VS Total Active Minutes shown below."
   ]
  },
  {
   "cell_type": "code",
   "execution_count": 90,
   "id": "d99764a2-f3f5-421d-8fd0-dbc0afd798da",
   "metadata": {},
   "outputs": [
    {
     "data": {
      "image/png": "[encoded data removed]",
      "text/plain": [
       "<Figure size 800x500 with 1 Axes>"
      ]
     },
     "metadata": {},
     "output_type": "display_data"
    }
   ],
   "source": [
    "fig, ax = plt.subplots(figsize=(8, 5))\n",
    "\n",
    "x = np.array([\"Sedentary Minutes\", \"Total Active Minutes\"])\n",
    "y = np.array([daily_activity[\"SedentaryMinutes\"].mean(),\n",
    "              daily_activity[\"TotalActiveMinutes\"].mean()])\n",
    "\n",
    "# Bar plot\n",
    "bars = ax.bar(x, y, width=0.8, color=\"cyan\")\n",
    "\n",
    "# Adding annotations\n",
    "for bar in bars:\n",
    "    yval = bar.get_height()\n",
    "    ax.text(bar.get_x() + bar.get_width()/2, yval + 0.1, round(yval, 2), ha='center', va='bottom')\n",
    "\n",
    "plt.title(\"Sedentary Minutes Vs Total Active Minutes\")\n",
    "plt.show()"
   ]
  },
  {
   "cell_type": "markdown",
   "id": "ef720477-7078-4312-a715-be53b9af02cf",
   "metadata": {},
   "source": [
    "### KEY FINDINGS:\n",
    "- There is a huge gap between SedentaryMinutes and TotalActiveMinutes.\n",
    "- It's obvious that the users spend more time sitting or lying down, than they do being active. This data can also show us something about their lifestyle or occupation. We can assume that most likely they belong to the working class that spends countless hours behind their desk."
   ]
  },
  {
   "cell_type": "markdown",
   "id": "a38c723d-b34a-4a07-aa82-c5ab9c89f90c",
   "metadata": {},
   "source": [
    "### Showing the Total Calories burnt by each day of the week in a bar chart."
   ]
  },
  {
   "cell_type": "code",
   "execution_count": 133,
   "id": "4ebfa4f7-b0c7-4ef5-b20a-906de41e3b7c",
   "metadata": {},
   "outputs": [
    {
     "data": {
      "image/png": "[encoded data removed]",
      "text/plain": [
       "<Figure size 1000x500 with 1 Axes>"
      ]
     },
     "metadata": {},
     "output_type": "display_data"
    }
   ],
   "source": [
    "fig, ax = plt.subplots(figsize=(10,5))\n",
    "plt.bar(merge_df.WeekDay, merge_df.Calories, color = \"seagreen\")\n",
    "plt.xlabel(\"Week Day\")\n",
    "plt.ylabel(\"Calories Burned\")\n",
    "plt.title(\"Calories Burned by Day of the Week\")\n",
    "plt.grid()\n",
    "\n",
    "plt.show()"
   ]
  },
  {
   "cell_type": "markdown",
   "id": "507da72d-8fcb-42ac-b695-49fccfac242c",
   "metadata": {},
   "source": [
    "### KEY FINDINGS:\n",
    "- This plot shows that the most calories were burnt on **Saturday** and that the least calories were burnt on **Monday**.\n",
    "- **Saturday** is quite understandable being that it is a weekend and the users probably have enough time to exercise. ***Monday***, on the other hand, is quite strange, given that is seen to be one of the busiest days at work for most people.\n",
    "- The first thing that came to mind is the fact that the users could probably be very busy behind their work desks that they barely have enough time to exercise or take a walk."
   ]
  },
  {
   "cell_type": "markdown",
   "id": "3d8782f9-0e81-4462-aed8-4865a9acb64e",
   "metadata": {},
   "source": [
    "### Showing the Total Steps walked every day for the week in a bar chart. "
   ]
  },
  {
   "cell_type": "code",
   "execution_count": 158,
   "id": "8331e505-080b-477a-8796-c0310ee7ffac",
   "metadata": {},
   "outputs": [
    {
     "data": {
      "image/png": "[encoded data removed]",
      "text/plain": [
       "<Figure size 1000x500 with 1 Axes>"
      ]
     },
     "metadata": {},
     "output_type": "display_data"
    }
   ],
   "source": [
    "fig, ax = plt.subplots(figsize=(10,5))\n",
    "plt.bar(daily_activity.WeekDay, daily_activity.TotalSteps, \n",
    "        color = \"pink\")\n",
    "plt.xlabel(\"WEEK DAY\")\n",
    "plt.ylabel(\"TOTAL STEPS TAKEN\")\n",
    "plt.title(\"TOTAL STEPS TAKEN BY THE DAY OF THE WEEK\")\n",
    "plt.grid()\n",
    "plt.show()"
   ]
  },
  {
   "cell_type": "markdown",
   "id": "6dd7411f-44fb-43b1-aeaa-ea8a0e9825cf",
   "metadata": {},
   "source": [
    "### KEY FINDINGS:\n",
    "- This gives us the true picture of why Sunday recorded the most calories burnt. Here we see that the least steps were taken by the users on Monday compared to the other days of the week. Meaning they probably spent more hours sitting behind their work desks.\n",
    "- It also gives us a clue about the profile of the users in the survey. They are most likely working class individuals.\n",
    "- The most steps were taken on Saturday and Sunday."
   ]
  },
  {
   "cell_type": "markdown",
   "id": "26e2c89c-7c18-4c39-81d7-2d3a46463717",
   "metadata": {},
   "source": [
    "### Showing the total minutes spent asleep daily in a week."
   ]
  },
  {
   "cell_type": "code",
   "execution_count": 170,
   "id": "d18c3f7f-178f-4bf9-93b1-cf9604590682",
   "metadata": {},
   "outputs": [
    {
     "data": {
      "image/png": "[encoded data removed]",
      "text/plain": [
       "<Figure size 1000x500 with 1 Axes>"
      ]
     },
     "metadata": {},
     "output_type": "display_data"
    }
   ],
   "source": [
    "fig, ax = plt.subplots(figsize=(10,5))\n",
    "x = merge_df2[\"WeekDay\"]\n",
    "y = merge_df2[\"TotalMinutesAsleep\"]\n",
    "\n",
    "plt.title(\"TOTAL TIME SLEPT BY DAY OF THE WEEK\")\n",
    "plt.xlabel(\"WEEKDAY\")\n",
    "plt.ylabel(\"TOTAL MINUTES SLEPT\")\n",
    "plt.bar(x, y, width = 0.8, color = \"turquoise\")\n",
    "plt.show() "
   ]
  },
  {
   "cell_type": "markdown",
   "id": "37d03c39-fdf9-45c1-98ba-b7455b22a0cc",
   "metadata": {},
   "source": [
    "### KEY FINDINGS:\n",
    "- The least amount of sleep was taken on **Thursday** and the most amount of sleep was taken on **Monday**. Usually people tend to sleep longer when they are more exhausted.\n",
    "- However, we can also see that the users also slept longer hours on **Saturday**, **Tuesday**, and **Sunday**, which were also the days when they lost the most calories."
   ]
  },
  {
   "cell_type": "markdown",
   "id": "18657a38-1545-4fe9-bc41-b4b413897399",
   "metadata": {},
   "source": [
    "### Showing the percentage of activities done in minutes in a pie chart."
   ]
  },
  {
   "cell_type": "code",
   "execution_count": 172,
   "id": "f1e5d4e1-aab9-4f14-9cdf-d125ea2f86cc",
   "metadata": {},
   "outputs": [
    {
     "data": {
      "image/png": "[encoded data removed]",
      "text/plain": [
       "<Figure size 640x480 with 1 Axes>"
      ]
     },
     "metadata": {},
     "output_type": "display_data"
    }
   ],
   "source": [
    "# calculating total of individual minutes column\n",
    "very_active_mins = daily_activity[\"VeryActiveMinutes\"].sum()\n",
    "fairly_active_mins = daily_activity[\"FairlyActiveMinutes\"].sum()\n",
    "lightly_active_mins = daily_activity[\"LightlyActiveMinutes\"].sum()\n",
    "sedentary_mins = daily_activity[\"SedentaryMinutes\"].sum()\n",
    "\n",
    "# plotting pie chart\n",
    "slices = [very_active_mins, fairly_active_mins, lightly_active_mins, sedentary_mins]\n",
    "labels = [\"Very active minutes\", \"Fairly active minutes\", \"Lightly active minutes\", \"Sedentary minutes\"]\n",
    "colours = [\"lightcoral\", \"yellowgreen\", \"lightskyblue\", \"darkorange\"]\n",
    "explode = [0, 0, 0, 0.1]\n",
    "plt.style.use(\"default\")\n",
    "plt.pie(slices, labels = labels, \n",
    "        colors = colours, wedgeprops = {\"edgecolor\": \"black\"}, \n",
    "        explode = explode, autopct = \"%1.1f%%\")\n",
    "plt.title(\"Percentage of Activity in Minutes\")\n",
    "plt.tight_layout()\n",
    "plt.show()"
   ]
  },
  {
   "cell_type": "markdown",
   "id": "aba48913-4323-4368-95dc-a71326fc4e54",
   "metadata": {},
   "source": [
    "### KEY FINDINGS:\n",
    "- Sedentary minutes takes the biggest slice at 81.3%.\n",
    "- This indicates that users are using the FitBit app to log daily activities such as daily commute, inactive movements (moving from one spot to another) or running errands.\n",
    "- App is rarely being used to track fitness (ie. running) as per the minor percentage of fairly active activity (1.1%) and very active activity (1.7%). This is highly discouraging as FitBit app was developed to encourage fitness."
   ]
  },
  {
   "cell_type": "markdown",
   "id": "c0076642-d73c-4070-9354-90b1bd2a8049",
   "metadata": {},
   "source": [
    "### Most and Least active hours of the day shown in the bar chart."
   ]
  },
  {
   "cell_type": "code",
   "execution_count": 226,
   "id": "00201515-6f5e-46db-86b0-d455db049d49",
   "metadata": {},
   "outputs": [
    {
     "data": {
      "image/png": "[encoded data removed]",
      "text/plain": [
       "<Figure size 1656x1080 with 1 Axes>"
      ]
     },
     "metadata": {},
     "output_type": "display_data"
    }
   ],
   "source": [
    "fig, axs = plt.subplots(figsize=(23, 15))\n",
    "\n",
    "# Group by 'DateHour' and calculate the mean of 'StepTotal'\n",
    "mean_steps_by_hour = merge_df.groupby('DateHour')['StepTotal'].mean()\n",
    "\n",
    "# Create a bar plot\n",
    "mean_steps_by_hour.plot(kind='bar', rot=0, ax=axs, color='lightskyblue', title='MOST AND LEAST ACTIVE HOURS OF THE DAY')\n",
    "\n",
    "# Adding annotations above each bar\n",
    "for p in axs.patches:\n",
    "    height = p.get_height()\n",
    "    axs.annotate(f'{height:.2f}', (p.get_x() + p.get_width() / 2., height),\n",
    "                ha='center', va='bottom', xytext=(0, 10), textcoords='offset points',rotation=45)\n",
    "\n",
    "plt.xlabel(\"HOUR OF THE DAY\")\n",
    "plt.ylabel(\"TOTAL STEPS TAKEN\")\n",
    "plt.show()\n"
   ]
  },
  {
   "cell_type": "markdown",
   "id": "15e7c33a-973e-4a5d-b9ca-e21eb042dfa9",
   "metadata": {},
   "source": [
    "### FINDINGS:\n",
    "Here we can see that their day starts getting really busy from 8 a.m. in the morning to all the way to 7 p.m. in the evening. The least active hours of the day are between 8 p.m and 10 p.m. These are probably the best hours to reach them with targetted ads."
   ]
  },
  {
   "cell_type": "markdown",
   "id": "a1bc497c-e475-4f59-9678-e839fa56a615",
   "metadata": {},
   "source": [
    "## 9. Recommendations\n",
    "In this final step, we will be delivering our insights and providing recommendations based on our analysis.\n",
    "\n",
    "Here, we will revisit our business questions and share with you our business recommendations.\n",
    "\n",
    "1. **Promotion**: The data we explored revealed that consumers are less active between 8p.m. and 10 p.m., shortly before they retire for the night. This is the ideal moment for HealthTrackers Inc. to schedule their advertising initiatives for optimal results. Google AdWords, for example, allows internet advertisers to schedule when their adverts are shown with its ad scheduling function. Such functions can allow HealthTrackers Inc. to effectively reach its consumers. Scheduling adverts will also help Bellabeat save money on advertisements.\n",
    "\n",
    "2. **Retention**: The objective of any membership program is not limited to generating a regular stream of new members. Retention is crucial! According to an online report, eighty percent of customers quit their subscription to a member site within the first two years of joining the site. For FitBit to retain its consumers, it must focus on personalized contents that offer value. For instance, the data revealed a positive correlation between the number of steps walked and the number of calories burnt. The more steps a person takes each day, the more calories they burn.\n",
    "\n",
    "3. The data also revealed that one of the issues people have is that they are hardly able to reach the minimum **10,000** steps per day **recommended** for healthy adults. To address this issue, HealthTrackers Inc. can provide fascinating tips to assist its consumers achieve their daily objectives. This may be published periodically on its website. Additionally, it can create engaging challenges to motivate its users to walk regularly. This will not only drive engagement, but also provide enormous value to them.\n",
    "\n",
    "4. I also noted that people spend far more time being inactive than being active. Inactivity is related with several health problems, including obesity, heart disease, stroke, etc. HealthTrackers Inc. can create explainer videos and blogs to educate its users about the negative impacts of sedentary lifestyle and how to prevent them. This is also a fantastic opportunity for FitBit to provide users with lifestyle-related health data, which links to the FitBit app to offer users with insights on their daily wellbeing.\n",
    "\n",
    "5. How could these trends help influence FitBit marketing strategy?\n",
    "\n",
    "    HealthTrackers Inc. marketing team can encourage users by educating and equipping them with knowledge about fitness benefits, suggest different types of exercise (ie. simple 10 minutes exercise on weekday and a more intense exercise on weekends) and calories intake and burnt rate information on the FitBit app.\n",
    "\n",
    "    On weekends, FitBit app can also prompt notification to encourage users to exercise."
   ]
  }
 ],
 "metadata": {
  "kernelspec": {
   "display_name": "Python 3 (Spyder)",
   "language": "python3",
   "name": "python3"
  },
  "language_info": {
   "codemirror_mode": {
    "name": "ipython",
    "version": 3
   },
   "file_extension": ".py",
   "mimetype": "text/x-python",
   "name": "python",
   "nbconvert_exporter": "python",
   "pygments_lexer": "ipython3",
   "version": "3.11.7"
  }
 },
 "nbformat": 4,
 "nbformat_minor": 5
}
