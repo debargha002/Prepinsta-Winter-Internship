{
 "cells": [
  {
   "cell_type": "markdown",
   "id": "c541eeab-3bfc-4f8e-aa88-32c5354ac16d",
   "metadata": {},
   "source": [
    "# WEEK 5 ASSIGNMENT\n",
    "## WEB SCRAPING"
   ]
  },
  {
   "cell_type": "markdown",
   "id": "32dfe107-3218-413c-bf89-9f8b847be4c3",
   "metadata": {},
   "source": [
    "The aim of this assignment is to scrape a website of book seller called  [Books to Scrape](http://books.toscrape.com/).\n",
    "From this website, we will be creating a dataframe with the following columns:\n",
    "- **title**\n",
    "- **rating**\n",
    "- **price**\n",
    "- **link**\n",
    "\n",
    "We will be using libraries such as `BeautifulSoup` and `requests` for web scrpaing and `pandas` to build the dataframe."
   ]
  },
  {
   "cell_type": "markdown",
   "id": "677b8ff6-1309-4510-ac06-cc1925f8ebc7",
   "metadata": {},
   "source": [
    "## Importing Libraries\n",
    "We will be importing the libraries to scape the data from the website.\n",
    "\n",
    "`BeautifulSoup` will be used for parsing and extracting the html elements, `requests` will be used for handling the protocol requests and `pandas` will be used for data manipulation. We will also be importing `csv` library for the export of the finalized .csv output."
   ]
  },
  {
   "cell_type": "code",
   "execution_count": 27,
   "id": "1df91057-28d2-498a-a22d-4cf55257123f",
   "metadata": {},
   "outputs": [],
   "source": [
    "# importing libraries\n",
    "import requests\n",
    "from bs4 import BeautifulSoup as bs\n",
    "import csv\n",
    "import pandas as pd"
   ]
  },
  {
   "cell_type": "markdown",
   "id": "80379982-9dbd-4063-bc51-5f58e6bee620",
   "metadata": {},
   "source": [
    "**We will use the requests library to send request to the website.**\n",
    "\r",
    "**If request is accepted, then we will print the status of it.**"
   ]
  },
  {
   "cell_type": "code",
   "execution_count": 4,
   "id": "965eeb95-3df1-4e07-a811-aecdb27e18d4",
   "metadata": {},
   "outputs": [
    {
     "name": "stdout",
     "output_type": "stream",
     "text": [
      "Request Successful\n"
     ]
    }
   ],
   "source": [
    "url = \"http://books.toscrape.com/\"\n",
    "response = requests.get(url)\n",
    "\n",
    "if response.status_code == 200:\n",
    "    print(\"Request Successful\")\n",
    "else:\n",
    "    print(\"Rwquest Unsuccessful\")"
   ]
  },
  {
   "cell_type": "markdown",
   "id": "f289ead4-2da2-4c0a-b206-629d5ffb24e4",
   "metadata": {},
   "source": [
    "## Parsing the HTML content\n",
    "After successfully getting the data, we will first view the format of the HTML text till 1000 characters."
   ]
  },
  {
   "cell_type": "code",
   "execution_count": 8,
   "id": "079b47e5-a279-407d-bcf2-5b840985df8d",
   "metadata": {},
   "outputs": [
    {
     "name": "stdout",
     "output_type": "stream",
     "text": [
      "<!DOCTYPE html>\n",
      "<!--[if lt IE 7]>      <html lang=\"en-us\" class=\"no-js lt-ie9 lt-ie8 lt-ie7\"> <![endif]-->\n",
      "<!--[if IE 7]>         <html lang=\"en-us\" class=\"no-js lt-ie9 lt-ie8\"> <![endif]-->\n",
      "<!--[if IE 8]>         <html lang=\"en-us\" class=\"no-js lt-ie9\"> <![endif]-->\n",
      "<!--[if gt IE 8]><!--> <html lang=\"en-us\" class=\"no-js\"> <!--<![endif]-->\n",
      "    <head>\n",
      "        <title>\n",
      "    All products | Books to Scrape - Sandbox\n",
      "</title>\n",
      "\n",
      "        <meta http-equiv=\"content-type\" content=\"text/html; charset=UTF-8\" />\n",
      "        <meta name=\"created\" content=\"24th Jun 2016 09:29\" />\n",
      "        <meta name=\"description\" content=\"\" />\n",
      "        <meta name=\"viewport\" content=\"width=device-width\" />\n",
      "        <meta name=\"robots\" content=\"NOARCHIVE,NOCACHE\" />\n",
      "\n",
      "        <!-- Le HTML5 shim, for IE6-8 support of HTML elements -->\n",
      "        <!--[if lt IE 9]>\n",
      "        <script src=\"//html5shim.googlecode.com/svn/trunk/html5.js\"></script>\n",
      "        <![endif]-->\n",
      "\n",
      "        \n",
      "            <link rel=\"shortcut icon\" href=\"static/oscar/favicon.\n"
     ]
    }
   ],
   "source": [
    "# Printing the first 1000 characters of the response text\n",
    "print(response.text[:1000])"
   ]
  },
  {
   "cell_type": "code",
   "execution_count": 9,
   "id": "318cd3e3-2dc4-4d98-aa70-af82f7721a86",
   "metadata": {},
   "outputs": [
    {
     "name": "stdout",
     "output_type": "stream",
     "text": [
      "<class 'bs4.BeautifulSoup'>\n"
     ]
    }
   ],
   "source": [
    "# parsing the HTML file using BeautifulSoup library\n",
    "soup = bs(response.text, \"html.parser\")\n",
    "print(type(soup))"
   ]
  },
  {
   "cell_type": "markdown",
   "id": "ceafd943-efe4-4756-adbe-ea3e1c69d52d",
   "metadata": {},
   "source": [
    "## Extracting details for one book\n",
    "Steps to be performed:\n",
    "- Scrap the data of 1 Book\n",
    "- Scrap the data of all the books in 1 page\n",
    "- Scrap the data of all the books of all 50 pages\n",
    "\n",
    "We will need to find all the `<article>` tag from the website and print and view that."
   ]
  },
  {
   "cell_type": "code",
   "execution_count": 11,
   "id": "ed671e15-d17f-4a58-aec9-1ef73b127d4e",
   "metadata": {},
   "outputs": [
    {
     "data": {
      "text/plain": [
       "<article class=\"product_pod\">\n",
       "<div class=\"image_container\">\n",
       "<a href=\"catalogue/a-light-in-the-attic_1000/index.html\"><img alt=\"A Light in the Attic\" class=\"thumbnail\" src=\"media/cache/2c/da/2cdad67c44b002e7ead0cc35693c0e8b.jpg\"/></a>\n",
       "</div>\n",
       "<p class=\"star-rating Three\">\n",
       "<i class=\"icon-star\"></i>\n",
       "<i class=\"icon-star\"></i>\n",
       "<i class=\"icon-star\"></i>\n",
       "<i class=\"icon-star\"></i>\n",
       "<i class=\"icon-star\"></i>\n",
       "</p>\n",
       "<h3><a href=\"catalogue/a-light-in-the-attic_1000/index.html\" title=\"A Light in the Attic\">A Light in the ...</a></h3>\n",
       "<div class=\"product_price\">\n",
       "<p class=\"price_color\">Â£51.77</p>\n",
       "<p class=\"instock availability\">\n",
       "<i class=\"icon-ok\"></i>\n",
       "    \n",
       "        In stock\n",
       "    \n",
       "</p>\n",
       "<form>\n",
       "<button class=\"btn btn-primary btn-block\" data-loading-text=\"Adding...\" type=\"submit\">Add to basket</button>\n",
       "</form>\n",
       "</div>\n",
       "</article>"
      ]
     },
     "execution_count": 11,
     "metadata": {},
     "output_type": "execute_result"
    }
   ],
   "source": [
    "books = soup.find_all('article', class_ = 'product_pod')\n",
    "single_book = books[0]\n",
    "single_book"
   ]
  },
  {
   "cell_type": "code",
   "execution_count": 23,
   "id": "038cffd4-1d33-42fd-be0e-222d0aa1fe63",
   "metadata": {},
   "outputs": [
    {
     "name": "stdout",
     "output_type": "stream",
     "text": [
      "Title:  A Light in the Attic\n"
     ]
    }
   ],
   "source": [
    "# extracting the title attribute from the 1st book element of <anchor> tag\n",
    "title = single_book.find('a', title=True)['title']\n",
    "print(\"Title: \",title)"
   ]
  },
  {
   "cell_type": "code",
   "execution_count": 22,
   "id": "b5274dad-f51c-4534-b8d9-6fa1ed5738d2",
   "metadata": {},
   "outputs": [
    {
     "name": "stdout",
     "output_type": "stream",
     "text": [
      "Rating:  Three\n"
     ]
    }
   ],
   "source": [
    "# extracting the star-rating class value from the first book element of <paragraph> tag\n",
    "rating = single_book.find('p', class_='star-rating')['class'][1]\n",
    "print(\"Rating: \",rating)"
   ]
  },
  {
   "cell_type": "code",
   "execution_count": 21,
   "id": "b7ae4583-6fc6-493e-bda4-d7e4940f7809",
   "metadata": {},
   "outputs": [
    {
     "name": "stdout",
     "output_type": "stream",
     "text": [
      "Price:  £51.77\n"
     ]
    }
   ],
   "source": [
    "# extracting and cleaning the \"price_color\" class value from the first book element of <paragraph> tag\n",
    "price = single_book.find('p',class_='price_color').text.strip().strip('Â')\n",
    "print(\"Price: \",price)"
   ]
  },
  {
   "cell_type": "code",
   "execution_count": 25,
   "id": "6fa5b258-8745-45d4-b997-fd527d6ce1e9",
   "metadata": {},
   "outputs": [
    {
     "name": "stdout",
     "output_type": "stream",
     "text": [
      "Link:  http://books.toscrape.com/catalogue/a-light-in-the-attic_1000/index.html\n"
     ]
    }
   ],
   "source": [
    "# extracting the \"href\" attribute value from the first book element of <anchor> tag.\n",
    "# we will be concatenating the initial url to book_url\n",
    "book_url = single_book.find('a')['href']\n",
    "link = url + book_url\n",
    "print(\"Link: \", link)"
   ]
  },
  {
   "cell_type": "markdown",
   "id": "83f22675-251e-4a3d-b691-6fbd7168ad05",
   "metadata": {},
   "source": [
    "## Extracting book details for page 1\n",
    "- Finding all HTML elements for individual books\n",
    "- Initializing an empty list to store book details\n",
    "- For each book, we will be:\n",
    "  - Extracting the book details\n",
    "  - Extracting the book ratings\n",
    "  - Cleaning and extracting the book price\n",
    "  - Extracting the book URL and creating complete link\n",
    "  - Appending all the details to a list"
   ]
  },
  {
   "cell_type": "code",
   "execution_count": 44,
   "id": "fb2cc614-8c1e-434c-bb3b-8f4f9e3a1d01",
   "metadata": {},
   "outputs": [],
   "source": [
    "books = soup.find_all('article', class_='product_pod')\n",
    "books_data = []\n",
    "\n",
    "for book in books:\n",
    "    title = book.find('a', title=True)['title']\n",
    "    rating = book.find('p', class_='star-rating')['class'][1]\n",
    "    price = book.find('p',class_='price_color').text.strip().strip('Â')\n",
    "    book_url = book.find('a')['href']\n",
    "    link = url + book_url\n",
    "\n",
    "    books_data.append([title, rating, price, link])"
   ]
  },
  {
   "cell_type": "code",
   "execution_count": 45,
   "id": "2076694a-f75c-44c7-ac45-135cbc08375d",
   "metadata": {},
   "outputs": [
    {
     "data": {
      "text/html": [
       "<div>\n",
       "<style scoped>\n",
       "    .dataframe tbody tr th:only-of-type {\n",
       "        vertical-align: middle;\n",
       "    }\n",
       "\n",
       "    .dataframe tbody tr th {\n",
       "        vertical-align: top;\n",
       "    }\n",
       "\n",
       "    .dataframe thead th {\n",
       "        text-align: right;\n",
       "    }\n",
       "</style>\n",
       "<table border=\"1\" class=\"dataframe\">\n",
       "  <thead>\n",
       "    <tr style=\"text-align: right;\">\n",
       "      <th></th>\n",
       "      <th>Title</th>\n",
       "      <th>Rating</th>\n",
       "      <th>Price</th>\n",
       "      <th>Link</th>\n",
       "    </tr>\n",
       "  </thead>\n",
       "  <tbody>\n",
       "    <tr>\n",
       "      <th>0</th>\n",
       "      <td>A Light in the Attic</td>\n",
       "      <td>Three</td>\n",
       "      <td>£51.77</td>\n",
       "      <td>http://books.toscrape.com/catalogue/a-light-in...</td>\n",
       "    </tr>\n",
       "    <tr>\n",
       "      <th>1</th>\n",
       "      <td>Tipping the Velvet</td>\n",
       "      <td>One</td>\n",
       "      <td>£53.74</td>\n",
       "      <td>http://books.toscrape.com/catalogue/tipping-th...</td>\n",
       "    </tr>\n",
       "    <tr>\n",
       "      <th>2</th>\n",
       "      <td>Soumission</td>\n",
       "      <td>One</td>\n",
       "      <td>£50.10</td>\n",
       "      <td>http://books.toscrape.com/catalogue/soumission...</td>\n",
       "    </tr>\n",
       "    <tr>\n",
       "      <th>3</th>\n",
       "      <td>Sharp Objects</td>\n",
       "      <td>Four</td>\n",
       "      <td>£47.82</td>\n",
       "      <td>http://books.toscrape.com/catalogue/sharp-obje...</td>\n",
       "    </tr>\n",
       "    <tr>\n",
       "      <th>4</th>\n",
       "      <td>Sapiens: A Brief History of Humankind</td>\n",
       "      <td>Five</td>\n",
       "      <td>£54.23</td>\n",
       "      <td>http://books.toscrape.com/catalogue/sapiens-a-...</td>\n",
       "    </tr>\n",
       "    <tr>\n",
       "      <th>5</th>\n",
       "      <td>The Requiem Red</td>\n",
       "      <td>One</td>\n",
       "      <td>£22.65</td>\n",
       "      <td>http://books.toscrape.com/catalogue/the-requie...</td>\n",
       "    </tr>\n",
       "    <tr>\n",
       "      <th>6</th>\n",
       "      <td>The Dirty Little Secrets of Getting Your Dream...</td>\n",
       "      <td>Four</td>\n",
       "      <td>£33.34</td>\n",
       "      <td>http://books.toscrape.com/catalogue/the-dirty-...</td>\n",
       "    </tr>\n",
       "    <tr>\n",
       "      <th>7</th>\n",
       "      <td>The Coming Woman: A Novel Based on the Life of...</td>\n",
       "      <td>Three</td>\n",
       "      <td>£17.93</td>\n",
       "      <td>http://books.toscrape.com/catalogue/the-coming...</td>\n",
       "    </tr>\n",
       "    <tr>\n",
       "      <th>8</th>\n",
       "      <td>The Boys in the Boat: Nine Americans and Their...</td>\n",
       "      <td>Four</td>\n",
       "      <td>£22.60</td>\n",
       "      <td>http://books.toscrape.com/catalogue/the-boys-i...</td>\n",
       "    </tr>\n",
       "    <tr>\n",
       "      <th>9</th>\n",
       "      <td>The Black Maria</td>\n",
       "      <td>One</td>\n",
       "      <td>£52.15</td>\n",
       "      <td>http://books.toscrape.com/catalogue/the-black-...</td>\n",
       "    </tr>\n",
       "    <tr>\n",
       "      <th>10</th>\n",
       "      <td>Starving Hearts (Triangular Trade Trilogy, #1)</td>\n",
       "      <td>Two</td>\n",
       "      <td>£13.99</td>\n",
       "      <td>http://books.toscrape.com/catalogue/starving-h...</td>\n",
       "    </tr>\n",
       "    <tr>\n",
       "      <th>11</th>\n",
       "      <td>Shakespeare's Sonnets</td>\n",
       "      <td>Four</td>\n",
       "      <td>£20.66</td>\n",
       "      <td>http://books.toscrape.com/catalogue/shakespear...</td>\n",
       "    </tr>\n",
       "    <tr>\n",
       "      <th>12</th>\n",
       "      <td>Set Me Free</td>\n",
       "      <td>Five</td>\n",
       "      <td>£17.46</td>\n",
       "      <td>http://books.toscrape.com/catalogue/set-me-fre...</td>\n",
       "    </tr>\n",
       "    <tr>\n",
       "      <th>13</th>\n",
       "      <td>Scott Pilgrim's Precious Little Life (Scott Pi...</td>\n",
       "      <td>Five</td>\n",
       "      <td>£52.29</td>\n",
       "      <td>http://books.toscrape.com/catalogue/scott-pilg...</td>\n",
       "    </tr>\n",
       "    <tr>\n",
       "      <th>14</th>\n",
       "      <td>Rip it Up and Start Again</td>\n",
       "      <td>Five</td>\n",
       "      <td>£35.02</td>\n",
       "      <td>http://books.toscrape.com/catalogue/rip-it-up-...</td>\n",
       "    </tr>\n",
       "    <tr>\n",
       "      <th>15</th>\n",
       "      <td>Our Band Could Be Your Life: Scenes from the A...</td>\n",
       "      <td>Three</td>\n",
       "      <td>£57.25</td>\n",
       "      <td>http://books.toscrape.com/catalogue/our-band-c...</td>\n",
       "    </tr>\n",
       "    <tr>\n",
       "      <th>16</th>\n",
       "      <td>Olio</td>\n",
       "      <td>One</td>\n",
       "      <td>£23.88</td>\n",
       "      <td>http://books.toscrape.com/catalogue/olio_984/i...</td>\n",
       "    </tr>\n",
       "    <tr>\n",
       "      <th>17</th>\n",
       "      <td>Mesaerion: The Best Science Fiction Stories 18...</td>\n",
       "      <td>One</td>\n",
       "      <td>£37.59</td>\n",
       "      <td>http://books.toscrape.com/catalogue/mesaerion-...</td>\n",
       "    </tr>\n",
       "    <tr>\n",
       "      <th>18</th>\n",
       "      <td>Libertarianism for Beginners</td>\n",
       "      <td>Two</td>\n",
       "      <td>£51.33</td>\n",
       "      <td>http://books.toscrape.com/catalogue/libertaria...</td>\n",
       "    </tr>\n",
       "    <tr>\n",
       "      <th>19</th>\n",
       "      <td>It's Only the Himalayas</td>\n",
       "      <td>Two</td>\n",
       "      <td>£45.17</td>\n",
       "      <td>http://books.toscrape.com/catalogue/its-only-t...</td>\n",
       "    </tr>\n",
       "  </tbody>\n",
       "</table>\n",
       "</div>"
      ],
      "text/plain": [
       "                                                Title Rating   Price  \\\n",
       "0                                A Light in the Attic  Three  £51.77   \n",
       "1                                  Tipping the Velvet    One  £53.74   \n",
       "2                                          Soumission    One  £50.10   \n",
       "3                                       Sharp Objects   Four  £47.82   \n",
       "4               Sapiens: A Brief History of Humankind   Five  £54.23   \n",
       "5                                     The Requiem Red    One  £22.65   \n",
       "6   The Dirty Little Secrets of Getting Your Dream...   Four  £33.34   \n",
       "7   The Coming Woman: A Novel Based on the Life of...  Three  £17.93   \n",
       "8   The Boys in the Boat: Nine Americans and Their...   Four  £22.60   \n",
       "9                                     The Black Maria    One  £52.15   \n",
       "10     Starving Hearts (Triangular Trade Trilogy, #1)    Two  £13.99   \n",
       "11                              Shakespeare's Sonnets   Four  £20.66   \n",
       "12                                        Set Me Free   Five  £17.46   \n",
       "13  Scott Pilgrim's Precious Little Life (Scott Pi...   Five  £52.29   \n",
       "14                          Rip it Up and Start Again   Five  £35.02   \n",
       "15  Our Band Could Be Your Life: Scenes from the A...  Three  £57.25   \n",
       "16                                               Olio    One  £23.88   \n",
       "17  Mesaerion: The Best Science Fiction Stories 18...    One  £37.59   \n",
       "18                       Libertarianism for Beginners    Two  £51.33   \n",
       "19                            It's Only the Himalayas    Two  £45.17   \n",
       "\n",
       "                                                 Link  \n",
       "0   http://books.toscrape.com/catalogue/a-light-in...  \n",
       "1   http://books.toscrape.com/catalogue/tipping-th...  \n",
       "2   http://books.toscrape.com/catalogue/soumission...  \n",
       "3   http://books.toscrape.com/catalogue/sharp-obje...  \n",
       "4   http://books.toscrape.com/catalogue/sapiens-a-...  \n",
       "5   http://books.toscrape.com/catalogue/the-requie...  \n",
       "6   http://books.toscrape.com/catalogue/the-dirty-...  \n",
       "7   http://books.toscrape.com/catalogue/the-coming...  \n",
       "8   http://books.toscrape.com/catalogue/the-boys-i...  \n",
       "9   http://books.toscrape.com/catalogue/the-black-...  \n",
       "10  http://books.toscrape.com/catalogue/starving-h...  \n",
       "11  http://books.toscrape.com/catalogue/shakespear...  \n",
       "12  http://books.toscrape.com/catalogue/set-me-fre...  \n",
       "13  http://books.toscrape.com/catalogue/scott-pilg...  \n",
       "14  http://books.toscrape.com/catalogue/rip-it-up-...  \n",
       "15  http://books.toscrape.com/catalogue/our-band-c...  \n",
       "16  http://books.toscrape.com/catalogue/olio_984/i...  \n",
       "17  http://books.toscrape.com/catalogue/mesaerion-...  \n",
       "18  http://books.toscrape.com/catalogue/libertaria...  \n",
       "19  http://books.toscrape.com/catalogue/its-only-t...  "
      ]
     },
     "execution_count": 45,
     "metadata": {},
     "output_type": "execute_result"
    }
   ],
   "source": [
    "# creating a dataframe using pandas\n",
    "df = pd.DataFrame(books_data, columns=[\"Title\",\"Rating\",\"Price\",\"Link\"])\n",
    "df"
   ]
  },
  {
   "cell_type": "markdown",
   "id": "69f5f03a-b387-4741-9207-479277936884",
   "metadata": {},
   "source": [
    "## Extracting book details for all 50 pages \n",
    "## Page 1 to 50"
   ]
  },
  {
   "cell_type": "code",
   "execution_count": 46,
   "id": "6f443b4f-26ad-448b-9d3e-bac0333c68ce",
   "metadata": {},
   "outputs": [
    {
     "name": "stdout",
     "output_type": "stream",
     "text": [
      "http://books.toscrape.com/catalogue/page-1.html\n",
      "http://books.toscrape.com/catalogue/page-2.html\n",
      "http://books.toscrape.com/catalogue/page-3.html\n",
      "http://books.toscrape.com/catalogue/page-4.html\n",
      "http://books.toscrape.com/catalogue/page-5.html\n",
      "http://books.toscrape.com/catalogue/page-6.html\n",
      "http://books.toscrape.com/catalogue/page-7.html\n",
      "http://books.toscrape.com/catalogue/page-8.html\n",
      "http://books.toscrape.com/catalogue/page-9.html\n",
      "http://books.toscrape.com/catalogue/page-10.html\n",
      "http://books.toscrape.com/catalogue/page-11.html\n",
      "http://books.toscrape.com/catalogue/page-12.html\n",
      "http://books.toscrape.com/catalogue/page-13.html\n",
      "http://books.toscrape.com/catalogue/page-14.html\n",
      "http://books.toscrape.com/catalogue/page-15.html\n",
      "http://books.toscrape.com/catalogue/page-16.html\n",
      "http://books.toscrape.com/catalogue/page-17.html\n",
      "http://books.toscrape.com/catalogue/page-18.html\n",
      "http://books.toscrape.com/catalogue/page-19.html\n",
      "http://books.toscrape.com/catalogue/page-20.html\n",
      "http://books.toscrape.com/catalogue/page-21.html\n",
      "http://books.toscrape.com/catalogue/page-22.html\n",
      "http://books.toscrape.com/catalogue/page-23.html\n",
      "http://books.toscrape.com/catalogue/page-24.html\n",
      "http://books.toscrape.com/catalogue/page-25.html\n",
      "http://books.toscrape.com/catalogue/page-26.html\n",
      "http://books.toscrape.com/catalogue/page-27.html\n",
      "http://books.toscrape.com/catalogue/page-28.html\n",
      "http://books.toscrape.com/catalogue/page-29.html\n",
      "http://books.toscrape.com/catalogue/page-30.html\n",
      "http://books.toscrape.com/catalogue/page-31.html\n",
      "http://books.toscrape.com/catalogue/page-32.html\n",
      "http://books.toscrape.com/catalogue/page-33.html\n",
      "http://books.toscrape.com/catalogue/page-34.html\n",
      "http://books.toscrape.com/catalogue/page-35.html\n",
      "http://books.toscrape.com/catalogue/page-36.html\n",
      "http://books.toscrape.com/catalogue/page-37.html\n",
      "http://books.toscrape.com/catalogue/page-38.html\n",
      "http://books.toscrape.com/catalogue/page-39.html\n",
      "http://books.toscrape.com/catalogue/page-40.html\n",
      "http://books.toscrape.com/catalogue/page-41.html\n",
      "http://books.toscrape.com/catalogue/page-42.html\n",
      "http://books.toscrape.com/catalogue/page-43.html\n",
      "http://books.toscrape.com/catalogue/page-44.html\n",
      "http://books.toscrape.com/catalogue/page-45.html\n",
      "http://books.toscrape.com/catalogue/page-46.html\n",
      "http://books.toscrape.com/catalogue/page-47.html\n",
      "http://books.toscrape.com/catalogue/page-48.html\n",
      "http://books.toscrape.com/catalogue/page-49.html\n",
      "http://books.toscrape.com/catalogue/page-50.html\n"
     ]
    }
   ],
   "source": [
    "for num in range(1, 51):\n",
    "    page_url = f'http://books.toscrape.com/catalogue/page-{num}.html'\n",
    "    print(page_url)"
   ]
  },
  {
   "cell_type": "markdown",
   "id": "a7872ae2-58e8-496f-97e2-fe4b4c999da7",
   "metadata": {},
   "source": [
    "We will be using `primary_url` to build complete book URls and `page_url` to specify the directory of multiple webpages."
   ]
  },
  {
   "cell_type": "code",
   "execution_count": 48,
   "id": "013db398-f0e1-4eef-a425-45089ba3fe7e",
   "metadata": {},
   "outputs": [],
   "source": [
    "primary_url = \"http://books.toscrape.com/\" \n",
    "books_50_data = []\n",
    "\n",
    "for num in range(1, 51):\n",
    "    page_url = f'http://books.toscrape.com/catalogue/page-{num}.html'\n",
    "    response = requests.get(page_url)\n",
    "    soup_page = bs(response.text, \"html.parser\")\n",
    "    books = soup_page.find_all('article', class_='product_pod')\n",
    "\n",
    "    for book in books:\n",
    "        title = book.find('a', title=True)['title']\n",
    "        rating = book.find('p', class_='star-rating')['class'][1]\n",
    "        price = book.find('p', class_='price_color').text.strip().strip('Â')\n",
    "        book_url = book.find('a')['href']\n",
    "        link = primary_url + book_url\n",
    "\n",
    "        books_50_data.append([title, rating, price, link])\n",
    "        "
   ]
  },
  {
   "cell_type": "code",
   "execution_count": 49,
   "id": "89c4bcf6-ee55-477e-855a-6666c30db8fe",
   "metadata": {},
   "outputs": [
    {
     "data": {
      "text/html": [
       "<div>\n",
       "<style scoped>\n",
       "    .dataframe tbody tr th:only-of-type {\n",
       "        vertical-align: middle;\n",
       "    }\n",
       "\n",
       "    .dataframe tbody tr th {\n",
       "        vertical-align: top;\n",
       "    }\n",
       "\n",
       "    .dataframe thead th {\n",
       "        text-align: right;\n",
       "    }\n",
       "</style>\n",
       "<table border=\"1\" class=\"dataframe\">\n",
       "  <thead>\n",
       "    <tr style=\"text-align: right;\">\n",
       "      <th></th>\n",
       "      <th>Title</th>\n",
       "      <th>Rating</th>\n",
       "      <th>Price</th>\n",
       "      <th>Link</th>\n",
       "    </tr>\n",
       "  </thead>\n",
       "  <tbody>\n",
       "    <tr>\n",
       "      <th>0</th>\n",
       "      <td>A Light in the Attic</td>\n",
       "      <td>Three</td>\n",
       "      <td>£51.77</td>\n",
       "      <td>http://books.toscrape.com/a-light-in-the-attic...</td>\n",
       "    </tr>\n",
       "    <tr>\n",
       "      <th>1</th>\n",
       "      <td>Tipping the Velvet</td>\n",
       "      <td>One</td>\n",
       "      <td>£53.74</td>\n",
       "      <td>http://books.toscrape.com/tipping-the-velvet_9...</td>\n",
       "    </tr>\n",
       "    <tr>\n",
       "      <th>2</th>\n",
       "      <td>Soumission</td>\n",
       "      <td>One</td>\n",
       "      <td>£50.10</td>\n",
       "      <td>http://books.toscrape.com/soumission_998/index...</td>\n",
       "    </tr>\n",
       "    <tr>\n",
       "      <th>3</th>\n",
       "      <td>Sharp Objects</td>\n",
       "      <td>Four</td>\n",
       "      <td>£47.82</td>\n",
       "      <td>http://books.toscrape.com/sharp-objects_997/in...</td>\n",
       "    </tr>\n",
       "    <tr>\n",
       "      <th>4</th>\n",
       "      <td>Sapiens: A Brief History of Humankind</td>\n",
       "      <td>Five</td>\n",
       "      <td>£54.23</td>\n",
       "      <td>http://books.toscrape.com/sapiens-a-brief-hist...</td>\n",
       "    </tr>\n",
       "    <tr>\n",
       "      <th>...</th>\n",
       "      <td>...</td>\n",
       "      <td>...</td>\n",
       "      <td>...</td>\n",
       "      <td>...</td>\n",
       "    </tr>\n",
       "    <tr>\n",
       "      <th>995</th>\n",
       "      <td>Alice in Wonderland (Alice's Adventures in Won...</td>\n",
       "      <td>One</td>\n",
       "      <td>£55.53</td>\n",
       "      <td>http://books.toscrape.com/alice-in-wonderland-...</td>\n",
       "    </tr>\n",
       "    <tr>\n",
       "      <th>996</th>\n",
       "      <td>Ajin: Demi-Human, Volume 1 (Ajin: Demi-Human #1)</td>\n",
       "      <td>Four</td>\n",
       "      <td>£57.06</td>\n",
       "      <td>http://books.toscrape.com/ajin-demi-human-volu...</td>\n",
       "    </tr>\n",
       "    <tr>\n",
       "      <th>997</th>\n",
       "      <td>A Spy's Devotion (The Regency Spies of London #1)</td>\n",
       "      <td>Five</td>\n",
       "      <td>£16.97</td>\n",
       "      <td>http://books.toscrape.com/a-spys-devotion-the-...</td>\n",
       "    </tr>\n",
       "    <tr>\n",
       "      <th>998</th>\n",
       "      <td>1st to Die (Women's Murder Club #1)</td>\n",
       "      <td>One</td>\n",
       "      <td>£53.98</td>\n",
       "      <td>http://books.toscrape.com/1st-to-die-womens-mu...</td>\n",
       "    </tr>\n",
       "    <tr>\n",
       "      <th>999</th>\n",
       "      <td>1,000 Places to See Before You Die</td>\n",
       "      <td>Five</td>\n",
       "      <td>£26.08</td>\n",
       "      <td>http://books.toscrape.com/1000-places-to-see-b...</td>\n",
       "    </tr>\n",
       "  </tbody>\n",
       "</table>\n",
       "<p>1000 rows × 4 columns</p>\n",
       "</div>"
      ],
      "text/plain": [
       "                                                 Title Rating   Price  \\\n",
       "0                                 A Light in the Attic  Three  £51.77   \n",
       "1                                   Tipping the Velvet    One  £53.74   \n",
       "2                                           Soumission    One  £50.10   \n",
       "3                                        Sharp Objects   Four  £47.82   \n",
       "4                Sapiens: A Brief History of Humankind   Five  £54.23   \n",
       "..                                                 ...    ...     ...   \n",
       "995  Alice in Wonderland (Alice's Adventures in Won...    One  £55.53   \n",
       "996   Ajin: Demi-Human, Volume 1 (Ajin: Demi-Human #1)   Four  £57.06   \n",
       "997  A Spy's Devotion (The Regency Spies of London #1)   Five  £16.97   \n",
       "998                1st to Die (Women's Murder Club #1)    One  £53.98   \n",
       "999                 1,000 Places to See Before You Die   Five  £26.08   \n",
       "\n",
       "                                                  Link  \n",
       "0    http://books.toscrape.com/a-light-in-the-attic...  \n",
       "1    http://books.toscrape.com/tipping-the-velvet_9...  \n",
       "2    http://books.toscrape.com/soumission_998/index...  \n",
       "3    http://books.toscrape.com/sharp-objects_997/in...  \n",
       "4    http://books.toscrape.com/sapiens-a-brief-hist...  \n",
       "..                                                 ...  \n",
       "995  http://books.toscrape.com/alice-in-wonderland-...  \n",
       "996  http://books.toscrape.com/ajin-demi-human-volu...  \n",
       "997  http://books.toscrape.com/a-spys-devotion-the-...  \n",
       "998  http://books.toscrape.com/1st-to-die-womens-mu...  \n",
       "999  http://books.toscrape.com/1000-places-to-see-b...  \n",
       "\n",
       "[1000 rows x 4 columns]"
      ]
     },
     "execution_count": 49,
     "metadata": {},
     "output_type": "execute_result"
    }
   ],
   "source": [
    "# creating a dataframe\n",
    "page_50 = pd.DataFrame(books_50_data, columns=[\"Title\", \"Rating\", \"Price\", \"Link\"])\n",
    "page_50"
   ]
  },
  {
   "cell_type": "markdown",
   "id": "3b51d197-5069-4eee-8114-cd3321a90ff0",
   "metadata": {},
   "source": [
    "## Exporting the data\n",
    "Saving the final data in a .csv format as **books_scraped.csv** "
   ]
  },
  {
   "cell_type": "code",
   "execution_count": 51,
   "id": "c663b266-2549-42e1-8d78-95b01c22b25e",
   "metadata": {},
   "outputs": [],
   "source": [
    "page_50.to_csv(\"books_scraped.csv\", index=False)"
   ]
  }
 ],
 "metadata": {
  "kernelspec": {
   "display_name": "Python 3 (ipykernel)",
   "language": "python",
   "name": "python3"
  },
  "language_info": {
   "codemirror_mode": {
    "name": "ipython",
    "version": 3
   },
   "file_extension": ".py",
   "mimetype": "text/x-python",
   "name": "python",
   "nbconvert_exporter": "python",
   "pygments_lexer": "ipython3",
   "version": "3.11.5"
  }
 },
 "nbformat": 4,
 "nbformat_minor": 5
}
